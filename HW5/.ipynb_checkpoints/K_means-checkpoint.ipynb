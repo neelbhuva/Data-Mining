{
 "cells": [
  {
   "cell_type": "markdown",
   "metadata": {},
   "source": [
    "###  K-means with Euclidena distance as proximity measure"
   ]
  },
  {
   "cell_type": "code",
   "execution_count": 240,
   "metadata": {
    "collapsed": true
   },
   "outputs": [],
   "source": [
    "import pandas as pd\n",
    "import numpy as np\n",
    "import math\n",
    "import matplotlib.pyplot as plt\n",
    "import random as rd"
   ]
  },
  {
   "cell_type": "code",
   "execution_count": 241,
   "metadata": {
    "collapsed": true
   },
   "outputs": [],
   "source": [
    "def getEucledian(a,b):\n",
    "    #print(a,b)\n",
    "    total = 0;\n",
    "    for i in range(0,len(a)):\n",
    "        diff = b[i] - a[i];\n",
    "        total += diff * diff;\n",
    "    return np.sqrt(total)"
   ]
  },
  {
   "cell_type": "code",
   "execution_count": 242,
   "metadata": {
    "collapsed": true
   },
   "outputs": [],
   "source": [
    "def clusterSSE(x,k_clusters,k_centers):\n",
    "    total = {} \n",
    "    for key,value in k_clusters.items():\n",
    "        s = 0\n",
    "        center = k_centers[key]\n",
    "        for i in value:\n",
    "            s = s + math.pow(getEucledian(x[i],center),2)\n",
    "        total[key] = s\n",
    "    return total       "
   ]
  },
  {
   "cell_type": "code",
   "execution_count": 243,
   "metadata": {
    "collapsed": true
   },
   "outputs": [],
   "source": [
    "def overallSSE(cluster_sse):\n",
    "    s = 0\n",
    "    for key,value in cluster_sse.items():\n",
    "        s = s + cluster_sse[key]\n",
    "    return s"
   ]
  },
  {
   "cell_type": "code",
   "execution_count": 244,
   "metadata": {
    "collapsed": true
   },
   "outputs": [],
   "source": [
    "def SSB(x,k_clusters,k_centers):\n",
    "    total = {}\n",
    "    keys = list(k_centers.keys())\n",
    "    for j in keys:\n",
    "        s =  0\n",
    "        for i in keys:\n",
    "            s = s + math.pow(getEucledian(k_centers[i],k_centers[j]),2)\n",
    "        total[j] = s\n",
    "    return total"
   ]
  },
  {
   "cell_type": "code",
   "execution_count": 245,
   "metadata": {
    "collapsed": true
   },
   "outputs": [],
   "source": [
    "def getMeanUsingIndex(x,indices):\n",
    "    total = []\n",
    "    for i in x[0]:\n",
    "        total.append(0)\n",
    "    #print(total)\n",
    "    for i in indices:\n",
    "        for j in range(0,len(total)):\n",
    "            total[j] = total[j] + x[i][j]\n",
    "    total = [f/len(indices) for f in total]\n",
    "    return (total)"
   ]
  },
  {
   "cell_type": "code",
   "execution_count": 246,
   "metadata": {
    "collapsed": true
   },
   "outputs": [],
   "source": [
    "def anyCenterChanged(k_centers,new_centers):\n",
    "    for key,value in k_centers.items():\n",
    "        if(k_centers[key] != new_centers[key]):\n",
    "            return True\n",
    "    return False"
   ]
  },
  {
   "cell_type": "code",
   "execution_count": 247,
   "metadata": {
    "collapsed": true
   },
   "outputs": [],
   "source": [
    "def assignInputToClusters(x,k_centers):\n",
    "    #keep track of clusters\n",
    "    k_clusters = {}\n",
    "    # print(\"Centers : \")\n",
    "    # print(k_centers)\n",
    "    dissimilarity = []\n",
    "    #assign all input patterns to clusters\n",
    "    for key,i in k_centers.items():\n",
    "        for j in x:\n",
    "            dissimilarity.append(getEucledian(i,j)) #eucledian similarity\n",
    "\n",
    "    dissimilarity = np.reshape(dissimilarity,(len(k_centers),len(x)))\n",
    "    df_dissim = pd.DataFrame(data=dissimilarity)\n",
    "    #print(df_dissim)\n",
    "    for i in range(1,df_dissim.shape[0]+1):\n",
    "        k_clusters[i] = [];\n",
    "    for i in df_dissim.columns:\n",
    "        #print(df_dissim.nsmallest(1,i).index[0],end = \" \")\n",
    "        shortest_dist_index = df_dissim.nsmallest(1,i).index[0]\n",
    "        k_clusters[shortest_dist_index+1].append(i)\n",
    "    #print(k_clusters)\n",
    "    new_centers = {}\n",
    "    for key,value in k_clusters.items():\n",
    "        #print(key,value)\n",
    "        new_centers[key]  = getMeanUsingIndex(x,value)\n",
    "#     print(\"New Centers : \")\n",
    "#     print(new_centers)\n",
    "    if(anyCenterChanged(k_centers,new_centers)):\n",
    "        assignInputToClusters(x,new_centers)\n",
    "    return (new_centers,k_clusters)"
   ]
  },
  {
   "cell_type": "code",
   "execution_count": 248,
   "metadata": {
    "collapsed": true
   },
   "outputs": [],
   "source": [
    "def recomputeDist(x,centers):\n",
    "    dist = []\n",
    "    for i in x:\n",
    "        t = []\n",
    "        for key,value in centers.items():\n",
    "            t.append(getEucledian(i,value))\n",
    "        dist.append(np.min(t))\n",
    "    total = np.sum(dist)\n",
    "    prob_dist = [d/total for d in dist]\n",
    "    return dist,prob_dist"
   ]
  },
  {
   "cell_type": "code",
   "execution_count": 249,
   "metadata": {},
   "outputs": [],
   "source": [
    "def kMeansPlusPlus(x,K):\n",
    "    k_centers = {}\n",
    "    #randomly select one center\n",
    "    k_centers[1] = rd.sample(x,1)[0]\n",
    "    print(\"First center : \" + str(k_centers[1]))\n",
    "    #calculate distance of all points to this center\n",
    "    dist = []\n",
    "    for i in x:\n",
    "        dist.append(getEucledian(i,k_centers[1]))\n",
    "    total = np.sum(dist)\n",
    "    #get probability distribution for each point using the distance\n",
    "    prob_dist = [d/total for d in dist]\n",
    "    #select k centers using probability distribution\n",
    "    j = 2\n",
    "    index = list(range(0,len(x)))\n",
    "    while(not(len(k_centers) == K)):\n",
    "        i = np.random.choice(index,p=prob_dist)\n",
    "        k_centers[j] = x[i]\n",
    "        dist,prob_dist = recomputeDist(x,k_centers)\n",
    "        j = j + 1\n",
    "    return k_centers\n",
    "    "
   ]
  },
  {
   "cell_type": "code",
   "execution_count": 250,
   "metadata": {
    "collapsed": true
   },
   "outputs": [],
   "source": [
    "def kMeans(x,K):\n",
    "    #select K number of input patterns as cluster centers randomly\n",
    "    centers = rd.sample(x,K)\n",
    "    k_centers = kMeansPlusPlus(x,K)\n",
    "#     k_centers = {}\n",
    "#     i = 1\n",
    "#     for j in centers:\n",
    "#         k_centers[i] = j\n",
    "#         i = i + 1\n",
    "\n",
    "    (k_centers,k_clusters) = assignInputToClusters(x,k_centers)\n",
    "    return (k_clusters,k_centers)\n"
   ]
  },
  {
   "cell_type": "code",
   "execution_count": 251,
   "metadata": {
    "collapsed": true
   },
   "outputs": [],
   "source": [
    "def getOutFrame(k_clusters):\n",
    "    columns = [\"Row ID\",\"Cluster\"]\n",
    "    df_out = pd.DataFrame() \n",
    "    for key,values in k_clusters.items():\n",
    "        t = []\n",
    "        for i in values:\n",
    "            t.append(key)\n",
    "        df = pd.DataFrame({\"Row ID\" : values, \"Cluster\" : t})\n",
    "        df_out = df_out.append(df)\n",
    "        df_out = df_out.sort_values(\"Row ID\",ascending=True)\n",
    "#     indices = df_out[\"Row ID\"]\n",
    "#     indices = [x+1 for x in indices]\n",
    "#     df_out[\"Row ID\"] = indices\n",
    "    return df_out"
   ]
  },
  {
   "cell_type": "code",
   "execution_count": 252,
   "metadata": {
    "collapsed": true
   },
   "outputs": [],
   "source": [
    "def plotClusters(x,k_clusters,title,xlabel,ylabel):\n",
    "    fig1 = plt.figure(1)\n",
    "    for key,value in k_clusters.items():\n",
    "        c = [x[index] for index in value]\n",
    "        #print(c)\n",
    "        plt.scatter(*zip(*c),label=\"Cluster \" + str(key))\n",
    "    plt.xlabel(xlabel)\n",
    "    plt.ylabel(ylabel)\n",
    "    plt.title(title)\n",
    "    plt.legend()\n",
    "    plt.show()"
   ]
  },
  {
   "cell_type": "code",
   "execution_count": 253,
   "metadata": {
    "collapsed": true
   },
   "outputs": [],
   "source": [
    "def getTrueClusters(df):\n",
    "    k_clusters = {}\n",
    "    k_centers = {}\n",
    "    clusters = set(df[\"cluster\"])\n",
    "    #print(clusters)\n",
    "    df_temp = df_tdh.drop([\"ID\",\"cluster\"],axis=1)\n",
    "    x = df_temp.values.tolist()\n",
    "    for i in clusters:\n",
    "        a = df.loc[df['cluster'] == i].index\n",
    "        #print(a)\n",
    "        k_clusters[i] = list(a)\n",
    "        k_centers[i] = getMeanUsingIndex(x,list(a))\n",
    "    #print(k_clusters)\n",
    "    return k_clusters,k_centers"
   ]
  },
  {
   "cell_type": "code",
   "execution_count": 254,
   "metadata": {
    "collapsed": true
   },
   "outputs": [],
   "source": [
    "# df_tdh = pd.read_csv(\"wine.csv\")\n",
    "# df_tdh = df_tdh.drop([\"ID\",\"quality\",\"class\"],axis=1)\n",
    "df_tdh = pd.read_csv(\"TwoDimHard.csv\")\n",
    "true_clusters,true_centers = getTrueClusters(df_tdh)\n",
    "df_tdh = df_tdh.drop([\"ID\",\"cluster\"],axis=1)\n",
    "#df_tdh.head()"
   ]
  },
  {
   "cell_type": "code",
   "execution_count": 255,
   "metadata": {},
   "outputs": [
    {
     "name": "stdout",
     "output_type": "stream",
     "text": [
      "Enter K : 4\n",
      "First center : [0.6969453431190961, 0.433957687716188]\n"
     ]
    },
    {
     "ename": "NameError",
     "evalue": "name 'total' is not defined",
     "output_type": "error",
     "traceback": [
      "\u001b[0;31m---------------------------------------------------------------------------\u001b[0m",
      "\u001b[0;31mNameError\u001b[0m                                 Traceback (most recent call last)",
      "\u001b[0;32m<ipython-input-255-5ef7c0474142>\u001b[0m in \u001b[0;36m<module>\u001b[0;34m()\u001b[0m\n\u001b[1;32m      1\u001b[0m \u001b[0mx\u001b[0m \u001b[0;34m=\u001b[0m \u001b[0mdf_tdh\u001b[0m\u001b[0;34m.\u001b[0m\u001b[0mvalues\u001b[0m\u001b[0;34m.\u001b[0m\u001b[0mtolist\u001b[0m\u001b[0;34m(\u001b[0m\u001b[0;34m)\u001b[0m\u001b[0;34m\u001b[0m\u001b[0m\n\u001b[1;32m      2\u001b[0m \u001b[0mk\u001b[0m \u001b[0;34m=\u001b[0m \u001b[0mint\u001b[0m\u001b[0;34m(\u001b[0m\u001b[0minput\u001b[0m\u001b[0;34m(\u001b[0m\u001b[0;34m\"Enter K : \"\u001b[0m\u001b[0;34m)\u001b[0m\u001b[0;34m)\u001b[0m\u001b[0;34m\u001b[0m\u001b[0m\n\u001b[0;32m----> 3\u001b[0;31m \u001b[0;34m(\u001b[0m\u001b[0mk_clusters\u001b[0m\u001b[0;34m,\u001b[0m\u001b[0mk_centers\u001b[0m\u001b[0;34m)\u001b[0m \u001b[0;34m=\u001b[0m \u001b[0mkMeans\u001b[0m\u001b[0;34m(\u001b[0m\u001b[0mx\u001b[0m\u001b[0;34m,\u001b[0m\u001b[0mk\u001b[0m\u001b[0;34m)\u001b[0m\u001b[0;34m\u001b[0m\u001b[0m\n\u001b[0m\u001b[1;32m      4\u001b[0m \u001b[0mprint\u001b[0m\u001b[0;34m(\u001b[0m\u001b[0mk_centers\u001b[0m\u001b[0;34m)\u001b[0m\u001b[0;34m\u001b[0m\u001b[0m\n\u001b[1;32m      5\u001b[0m \u001b[0mdf_out\u001b[0m \u001b[0;34m=\u001b[0m \u001b[0mgetOutFrame\u001b[0m\u001b[0;34m(\u001b[0m\u001b[0mk_clusters\u001b[0m\u001b[0;34m)\u001b[0m\u001b[0;34m\u001b[0m\u001b[0m\n",
      "\u001b[0;32m<ipython-input-250-902c7f552f6b>\u001b[0m in \u001b[0;36mkMeans\u001b[0;34m(x, K)\u001b[0m\n\u001b[1;32m      2\u001b[0m     \u001b[0;31m#select K number of input patterns as cluster centers randomly\u001b[0m\u001b[0;34m\u001b[0m\u001b[0;34m\u001b[0m\u001b[0m\n\u001b[1;32m      3\u001b[0m     \u001b[0mcenters\u001b[0m \u001b[0;34m=\u001b[0m \u001b[0mrd\u001b[0m\u001b[0;34m.\u001b[0m\u001b[0msample\u001b[0m\u001b[0;34m(\u001b[0m\u001b[0mx\u001b[0m\u001b[0;34m,\u001b[0m\u001b[0mK\u001b[0m\u001b[0;34m)\u001b[0m\u001b[0;34m\u001b[0m\u001b[0m\n\u001b[0;32m----> 4\u001b[0;31m     \u001b[0mk_centers\u001b[0m \u001b[0;34m=\u001b[0m \u001b[0mkMeansPlusPlus\u001b[0m\u001b[0;34m(\u001b[0m\u001b[0mx\u001b[0m\u001b[0;34m,\u001b[0m\u001b[0mK\u001b[0m\u001b[0;34m)\u001b[0m\u001b[0;34m\u001b[0m\u001b[0m\n\u001b[0m\u001b[1;32m      5\u001b[0m \u001b[0;31m#     k_centers = {}\u001b[0m\u001b[0;34m\u001b[0m\u001b[0;34m\u001b[0m\u001b[0m\n\u001b[1;32m      6\u001b[0m \u001b[0;31m#     i = 1\u001b[0m\u001b[0;34m\u001b[0m\u001b[0;34m\u001b[0m\u001b[0m\n",
      "\u001b[0;32m<ipython-input-249-9ed1162daae0>\u001b[0m in \u001b[0;36mkMeansPlusPlus\u001b[0;34m(x, K)\u001b[0m\n\u001b[1;32m     17\u001b[0m         \u001b[0mi\u001b[0m \u001b[0;34m=\u001b[0m \u001b[0mnp\u001b[0m\u001b[0;34m.\u001b[0m\u001b[0mrandom\u001b[0m\u001b[0;34m.\u001b[0m\u001b[0mchoice\u001b[0m\u001b[0;34m(\u001b[0m\u001b[0mindex\u001b[0m\u001b[0;34m,\u001b[0m\u001b[0mp\u001b[0m\u001b[0;34m=\u001b[0m\u001b[0mprob_dist\u001b[0m\u001b[0;34m)\u001b[0m\u001b[0;34m\u001b[0m\u001b[0m\n\u001b[1;32m     18\u001b[0m         \u001b[0mk_centers\u001b[0m\u001b[0;34m[\u001b[0m\u001b[0mj\u001b[0m\u001b[0;34m]\u001b[0m \u001b[0;34m=\u001b[0m \u001b[0mx\u001b[0m\u001b[0;34m[\u001b[0m\u001b[0mi\u001b[0m\u001b[0;34m]\u001b[0m\u001b[0;34m\u001b[0m\u001b[0m\n\u001b[0;32m---> 19\u001b[0;31m         \u001b[0mdist\u001b[0m\u001b[0;34m,\u001b[0m\u001b[0mprob_dist\u001b[0m \u001b[0;34m=\u001b[0m \u001b[0mrecomputeDist\u001b[0m\u001b[0;34m(\u001b[0m\u001b[0mx\u001b[0m\u001b[0;34m,\u001b[0m\u001b[0mk_centers\u001b[0m\u001b[0;34m)\u001b[0m\u001b[0;34m\u001b[0m\u001b[0m\n\u001b[0m\u001b[1;32m     20\u001b[0m         \u001b[0mj\u001b[0m \u001b[0;34m=\u001b[0m \u001b[0mj\u001b[0m \u001b[0;34m+\u001b[0m \u001b[0;36m1\u001b[0m\u001b[0;34m\u001b[0m\u001b[0m\n\u001b[1;32m     21\u001b[0m     \u001b[0;32mreturn\u001b[0m \u001b[0mk_centers\u001b[0m\u001b[0;34m\u001b[0m\u001b[0m\n",
      "\u001b[0;32m<ipython-input-248-059d78bff60b>\u001b[0m in \u001b[0;36mrecomputeDist\u001b[0;34m(x, centers)\u001b[0m\n\u001b[1;32m      6\u001b[0m             \u001b[0mt\u001b[0m\u001b[0;34m.\u001b[0m\u001b[0mappend\u001b[0m\u001b[0;34m(\u001b[0m\u001b[0mgetEucledian\u001b[0m\u001b[0;34m(\u001b[0m\u001b[0mi\u001b[0m\u001b[0;34m,\u001b[0m\u001b[0mvalue\u001b[0m\u001b[0;34m)\u001b[0m\u001b[0;34m)\u001b[0m\u001b[0;34m\u001b[0m\u001b[0m\n\u001b[1;32m      7\u001b[0m         \u001b[0mdist\u001b[0m\u001b[0;34m.\u001b[0m\u001b[0mappend\u001b[0m\u001b[0;34m(\u001b[0m\u001b[0mnp\u001b[0m\u001b[0;34m.\u001b[0m\u001b[0mmin\u001b[0m\u001b[0;34m(\u001b[0m\u001b[0mt\u001b[0m\u001b[0;34m)\u001b[0m\u001b[0;34m)\u001b[0m\u001b[0;34m\u001b[0m\u001b[0m\n\u001b[0;32m----> 8\u001b[0;31m     \u001b[0mprob_dist\u001b[0m \u001b[0;34m=\u001b[0m \u001b[0;34m[\u001b[0m\u001b[0md\u001b[0m\u001b[0;34m/\u001b[0m\u001b[0mtotal\u001b[0m \u001b[0;32mfor\u001b[0m \u001b[0md\u001b[0m \u001b[0;32min\u001b[0m \u001b[0mdist\u001b[0m\u001b[0;34m]\u001b[0m\u001b[0;34m\u001b[0m\u001b[0m\n\u001b[0m\u001b[1;32m      9\u001b[0m     \u001b[0;32mreturn\u001b[0m \u001b[0mdist\u001b[0m\u001b[0;34m,\u001b[0m\u001b[0mprob_dist\u001b[0m\u001b[0;34m\u001b[0m\u001b[0m\n",
      "\u001b[0;32m<ipython-input-248-059d78bff60b>\u001b[0m in \u001b[0;36m<listcomp>\u001b[0;34m(.0)\u001b[0m\n\u001b[1;32m      6\u001b[0m             \u001b[0mt\u001b[0m\u001b[0;34m.\u001b[0m\u001b[0mappend\u001b[0m\u001b[0;34m(\u001b[0m\u001b[0mgetEucledian\u001b[0m\u001b[0;34m(\u001b[0m\u001b[0mi\u001b[0m\u001b[0;34m,\u001b[0m\u001b[0mvalue\u001b[0m\u001b[0;34m)\u001b[0m\u001b[0;34m)\u001b[0m\u001b[0;34m\u001b[0m\u001b[0m\n\u001b[1;32m      7\u001b[0m         \u001b[0mdist\u001b[0m\u001b[0;34m.\u001b[0m\u001b[0mappend\u001b[0m\u001b[0;34m(\u001b[0m\u001b[0mnp\u001b[0m\u001b[0;34m.\u001b[0m\u001b[0mmin\u001b[0m\u001b[0;34m(\u001b[0m\u001b[0mt\u001b[0m\u001b[0;34m)\u001b[0m\u001b[0;34m)\u001b[0m\u001b[0;34m\u001b[0m\u001b[0m\n\u001b[0;32m----> 8\u001b[0;31m     \u001b[0mprob_dist\u001b[0m \u001b[0;34m=\u001b[0m \u001b[0;34m[\u001b[0m\u001b[0md\u001b[0m\u001b[0;34m/\u001b[0m\u001b[0mtotal\u001b[0m \u001b[0;32mfor\u001b[0m \u001b[0md\u001b[0m \u001b[0;32min\u001b[0m \u001b[0mdist\u001b[0m\u001b[0;34m]\u001b[0m\u001b[0;34m\u001b[0m\u001b[0m\n\u001b[0m\u001b[1;32m      9\u001b[0m     \u001b[0;32mreturn\u001b[0m \u001b[0mdist\u001b[0m\u001b[0;34m,\u001b[0m\u001b[0mprob_dist\u001b[0m\u001b[0;34m\u001b[0m\u001b[0m\n",
      "\u001b[0;31mNameError\u001b[0m: name 'total' is not defined"
     ]
    }
   ],
   "source": [
    "x = df_tdh.values.tolist()\n",
    "k = int(input(\"Enter K : \"))\n",
    "(k_clusters,k_centers) = kMeans(x,k)\n",
    "print(k_centers)\n",
    "df_out = getOutFrame(k_clusters)\n",
    "df_out.to_csv(\"output.csv\")"
   ]
  },
  {
   "cell_type": "code",
   "execution_count": null,
   "metadata": {},
   "outputs": [],
   "source": [
    "sse = clusterSSE(x,k_clusters,k_centers)\n",
    "print(\"Cluster SSE : \" + str(sse))\n",
    "overall_sse = overallSSE(sse)\n",
    "print(\"Overall SSE : \" + str(overall_sse))\n",
    "ssb = SSB(x,k_clusters,k_centers)\n",
    "print(\"SSB : \" + str(ssb))"
   ]
  },
  {
   "cell_type": "code",
   "execution_count": null,
   "metadata": {},
   "outputs": [],
   "source": [
    "plotClusters(x,k_clusters,\"Clusters\",\"x1\",\"x2\")\n",
    "plotClusters(x,true_clusters,\"True Clusters\",\"x1\",\"x2\")\n",
    "print(df_out.head())\n",
    "true_sse = clusterSSE(x,true_clusters,true_centers)\n",
    "print(\"True Cluster SSE : \" + str(true_sse))\n",
    "true_overall_sse = overallSSE(true_sse)\n",
    "print(\"True Overall SSE : \" + str(true_overall_sse))\n",
    "true_ssb = SSB(x,true_clusters,true_centers)\n",
    "print(\"True SSB : \" + str(true_ssb))"
   ]
  },
  {
   "cell_type": "code",
   "execution_count": null,
   "metadata": {
    "collapsed": true
   },
   "outputs": [],
   "source": []
  }
 ],
 "metadata": {
  "kernelspec": {
   "display_name": "Python 3",
   "language": "python",
   "name": "python3"
  },
  "language_info": {
   "codemirror_mode": {
    "name": "ipython",
    "version": 3
   },
   "file_extension": ".py",
   "mimetype": "text/x-python",
   "name": "python",
   "nbconvert_exporter": "python",
   "pygments_lexer": "ipython3",
   "version": "3.4.3"
  }
 },
 "nbformat": 4,
 "nbformat_minor": 2
}
