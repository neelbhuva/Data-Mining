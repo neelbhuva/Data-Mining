{
 "cells": [
  {
   "cell_type": "markdown",
   "metadata": {},
   "source": [
    "###  K-means with Euclidena distance as proximity measure"
   ]
  },
  {
   "cell_type": "code",
   "execution_count": 256,
   "metadata": {
    "collapsed": true
   },
   "outputs": [],
   "source": [
    "import pandas as pd\n",
    "import numpy as np\n",
    "import math\n",
    "import matplotlib.pyplot as plt\n",
    "import random as rd"
   ]
  },
  {
   "cell_type": "code",
   "execution_count": 257,
   "metadata": {
    "collapsed": true
   },
   "outputs": [],
   "source": [
    "def getEucledian(a,b):\n",
    "    #print(a,b)\n",
    "    total = 0;\n",
    "    for i in range(0,len(a)):\n",
    "        diff = b[i] - a[i];\n",
    "        total += diff * diff;\n",
    "    return np.sqrt(total)"
   ]
  },
  {
   "cell_type": "code",
   "execution_count": 258,
   "metadata": {
    "collapsed": true
   },
   "outputs": [],
   "source": [
    "def clusterSSE(x,k_clusters,k_centers):\n",
    "    total = {} \n",
    "    for key,value in k_clusters.items():\n",
    "        s = 0\n",
    "        center = k_centers[key]\n",
    "        for i in value:\n",
    "            s = s + math.pow(getEucledian(x[i],center),2)\n",
    "        total[key] = s\n",
    "    return total       "
   ]
  },
  {
   "cell_type": "code",
   "execution_count": 259,
   "metadata": {
    "collapsed": true
   },
   "outputs": [],
   "source": [
    "def overallSSE(cluster_sse):\n",
    "    s = 0\n",
    "    for key,value in cluster_sse.items():\n",
    "        s = s + cluster_sse[key]\n",
    "    return s"
   ]
  },
  {
   "cell_type": "code",
   "execution_count": 260,
   "metadata": {
    "collapsed": true
   },
   "outputs": [],
   "source": [
    "def SSB(x,k_clusters,k_centers):\n",
    "    total = {}\n",
    "    keys = list(k_centers.keys())\n",
    "    for j in keys:\n",
    "        s =  0\n",
    "        for i in keys:\n",
    "            s = s + math.pow(getEucledian(k_centers[i],k_centers[j]),2)\n",
    "        total[j] = s\n",
    "    return total"
   ]
  },
  {
   "cell_type": "code",
   "execution_count": 261,
   "metadata": {
    "collapsed": true
   },
   "outputs": [],
   "source": [
    "def getMeanUsingIndex(x,indices):\n",
    "    total = []\n",
    "    for i in x[0]:\n",
    "        total.append(0)\n",
    "    #print(total)\n",
    "    for i in indices:\n",
    "        for j in range(0,len(total)):\n",
    "            total[j] = total[j] + x[i][j]\n",
    "    total = [f/len(indices) for f in total]\n",
    "    return (total)"
   ]
  },
  {
   "cell_type": "code",
   "execution_count": 262,
   "metadata": {
    "collapsed": true
   },
   "outputs": [],
   "source": [
    "def anyCenterChanged(k_centers,new_centers):\n",
    "    for key,value in k_centers.items():\n",
    "        if(k_centers[key] != new_centers[key]):\n",
    "            return True\n",
    "    return False"
   ]
  },
  {
   "cell_type": "code",
   "execution_count": 263,
   "metadata": {
    "collapsed": true
   },
   "outputs": [],
   "source": [
    "def assignInputToClusters(x,k_centers):\n",
    "    #keep track of clusters\n",
    "    k_clusters = {}\n",
    "    # print(\"Centers : \")\n",
    "    # print(k_centers)\n",
    "    dissimilarity = []\n",
    "    #assign all input patterns to clusters\n",
    "    for key,i in k_centers.items():\n",
    "        for j in x:\n",
    "            dissimilarity.append(getEucledian(i,j)) #eucledian similarity\n",
    "\n",
    "    dissimilarity = np.reshape(dissimilarity,(len(k_centers),len(x)))\n",
    "    df_dissim = pd.DataFrame(data=dissimilarity)\n",
    "    #print(df_dissim)\n",
    "    for i in range(1,df_dissim.shape[0]+1):\n",
    "        k_clusters[i] = [];\n",
    "    for i in df_dissim.columns:\n",
    "        #print(df_dissim.nsmallest(1,i).index[0],end = \" \")\n",
    "        shortest_dist_index = df_dissim.nsmallest(1,i).index[0]\n",
    "        k_clusters[shortest_dist_index+1].append(i)\n",
    "    #print(k_clusters)\n",
    "    new_centers = {}\n",
    "    for key,value in k_clusters.items():\n",
    "        #print(key,value)\n",
    "        new_centers[key]  = getMeanUsingIndex(x,value)\n",
    "#     print(\"New Centers : \")\n",
    "#     print(new_centers)\n",
    "    if(anyCenterChanged(k_centers,new_centers)):\n",
    "        assignInputToClusters(x,new_centers)\n",
    "    return (new_centers,k_clusters)"
   ]
  },
  {
   "cell_type": "code",
   "execution_count": 264,
   "metadata": {
    "collapsed": true
   },
   "outputs": [],
   "source": [
    "def recomputeDist(x,centers):\n",
    "    dist = []\n",
    "    for i in x:\n",
    "        t = []\n",
    "        for key,value in centers.items():\n",
    "            t.append(getEucledian(i,value))\n",
    "        dist.append(np.min(t))\n",
    "    total = np.sum(dist)\n",
    "    prob_dist = [d/total for d in dist]\n",
    "    return dist,prob_dist"
   ]
  },
  {
   "cell_type": "code",
   "execution_count": 265,
   "metadata": {},
   "outputs": [],
   "source": [
    "def kMeansPlusPlus(x,K):\n",
    "    k_centers = {}\n",
    "    #randomly select one center\n",
    "    k_centers[1] = rd.sample(x,1)[0]\n",
    "    print(\"First center : \" + str(k_centers[1]))\n",
    "    #calculate distance of all points to this center\n",
    "    dist = []\n",
    "    for i in x:\n",
    "        dist.append(getEucledian(i,k_centers[1]))\n",
    "    total = np.sum(dist)\n",
    "    #get probability distribution for each point using the distance\n",
    "    prob_dist = [d/total for d in dist]\n",
    "    #select k centers using probability distribution\n",
    "    j = 2\n",
    "    index = list(range(0,len(x)))\n",
    "    while(not(len(k_centers) == K)):\n",
    "        i = np.random.choice(index,p=prob_dist)\n",
    "        k_centers[j] = x[i]\n",
    "        dist,prob_dist = recomputeDist(x,k_centers)\n",
    "        j = j + 1\n",
    "    return k_centers\n",
    "    "
   ]
  },
  {
   "cell_type": "code",
   "execution_count": 266,
   "metadata": {
    "collapsed": true
   },
   "outputs": [],
   "source": [
    "def kMeans(x,K):\n",
    "    #select K number of input patterns as cluster centers randomly\n",
    "    centers = rd.sample(x,K)\n",
    "    k_centers = kMeansPlusPlus(x,K)\n",
    "#     k_centers = {}\n",
    "#     i = 1\n",
    "#     for j in centers:\n",
    "#         k_centers[i] = j\n",
    "#         i = i + 1\n",
    "\n",
    "    (k_centers,k_clusters) = assignInputToClusters(x,k_centers)\n",
    "    return (k_clusters,k_centers)\n"
   ]
  },
  {
   "cell_type": "code",
   "execution_count": 267,
   "metadata": {
    "collapsed": true
   },
   "outputs": [],
   "source": [
    "def getOutFrame(k_clusters):\n",
    "    columns = [\"Row ID\",\"Cluster\"]\n",
    "    df_out = pd.DataFrame() \n",
    "    for key,values in k_clusters.items():\n",
    "        t = []\n",
    "        for i in values:\n",
    "            t.append(key)\n",
    "        df = pd.DataFrame({\"Row ID\" : values, \"Cluster\" : t})\n",
    "        df_out = df_out.append(df)\n",
    "        df_out = df_out.sort_values(\"Row ID\",ascending=True)\n",
    "#     indices = df_out[\"Row ID\"]\n",
    "#     indices = [x+1 for x in indices]\n",
    "#     df_out[\"Row ID\"] = indices\n",
    "    return df_out"
   ]
  },
  {
   "cell_type": "code",
   "execution_count": 268,
   "metadata": {
    "collapsed": true
   },
   "outputs": [],
   "source": [
    "def plotClusters(x,k_clusters,title,xlabel,ylabel):\n",
    "    fig1 = plt.figure(1)\n",
    "    for key,value in k_clusters.items():\n",
    "        c = [x[index] for index in value]\n",
    "        #print(c)\n",
    "        plt.scatter(*zip(*c),label=\"Cluster \" + str(key))\n",
    "    plt.xlabel(xlabel)\n",
    "    plt.ylabel(ylabel)\n",
    "    plt.title(title)\n",
    "    plt.legend()\n",
    "    plt.show()"
   ]
  },
  {
   "cell_type": "code",
   "execution_count": 269,
   "metadata": {
    "collapsed": true
   },
   "outputs": [],
   "source": [
    "def getTrueClusters(df):\n",
    "    k_clusters = {}\n",
    "    k_centers = {}\n",
    "    clusters = set(df[\"cluster\"])\n",
    "    #print(clusters)\n",
    "    df_temp = df_tdh.drop([\"ID\",\"cluster\"],axis=1)\n",
    "    x = df_temp.values.tolist()\n",
    "    for i in clusters:\n",
    "        a = df.loc[df['cluster'] == i].index\n",
    "        #print(a)\n",
    "        k_clusters[i] = list(a)\n",
    "        k_centers[i] = getMeanUsingIndex(x,list(a))\n",
    "    #print(k_clusters)\n",
    "    return k_clusters,k_centers"
   ]
  },
  {
   "cell_type": "code",
   "execution_count": 270,
   "metadata": {
    "collapsed": true
   },
   "outputs": [],
   "source": [
    "# df_tdh = pd.read_csv(\"wine.csv\")\n",
    "# df_tdh = df_tdh.drop([\"ID\",\"quality\",\"class\"],axis=1)\n",
    "df_tdh = pd.read_csv(\"TwoDimHard.csv\")\n",
    "true_clusters,true_centers = getTrueClusters(df_tdh)\n",
    "df_tdh = df_tdh.drop([\"ID\",\"cluster\"],axis=1)\n",
    "#df_tdh.head()"
   ]
  },
  {
   "cell_type": "code",
   "execution_count": 271,
   "metadata": {},
   "outputs": [
    {
     "name": "stdout",
     "output_type": "stream",
     "text": [
      "Enter K : 4\n",
      "First center : [0.669727238256302, 0.6944743320539339]\n",
      "{1: [0.6289118989412369, 0.6870771463987936], 2: [0.43654963614282777, 0.33408368358485174], 3: [0.3491201748425923, 0.7489982247226596], 4: [0.7723636884234838, 0.39617944525609916]}\n"
     ]
    }
   ],
   "source": [
    "x = df_tdh.values.tolist()\n",
    "k = int(input(\"Enter K : \"))\n",
    "(k_clusters,k_centers) = kMeans(x,k)\n",
    "print(k_centers)\n",
    "df_out = getOutFrame(k_clusters)\n",
    "df_out.to_csv(\"output.csv\")"
   ]
  },
  {
   "cell_type": "code",
   "execution_count": 272,
   "metadata": {},
   "outputs": [
    {
     "name": "stdout",
     "output_type": "stream",
     "text": [
      "Cluster SSE : {1: 1.0350257040373592, 2: 1.9239592505891805, 3: 0.9901792627382751, 4: 1.322588174832281}\n",
      "Overall SSE : 5.2717523921970955\n",
      "SSB : {1: 0.3489251421889476, 2: 0.45803257341583653, 3: 0.5655317788983013, 4: 0.5254430126950225}\n"
     ]
    }
   ],
   "source": [
    "sse = clusterSSE(x,k_clusters,k_centers)\n",
    "print(\"Cluster SSE : \" + str(sse))\n",
    "overall_sse = overallSSE(sse)\n",
    "print(\"Overall SSE : \" + str(overall_sse))\n",
    "ssb = SSB(x,k_clusters,k_centers)\n",
    "print(\"SSB : \" + str(ssb))"
   ]
  },
  {
   "cell_type": "code",
   "execution_count": 273,
   "metadata": {},
   "outputs": [
    {
     "data": {
      "image/png": "[encoded data removed]",
      "text/plain": [
       "<matplotlib.figure.Figure at 0x7ff49aa9d7b8>"
      ]
     },
     "metadata": {},
     "output_type": "display_data"
    },
    {
     "data": {
      "image/png": "[encoded data removed]",
      "text/plain": [
       "<matplotlib.figure.Figure at 0x7ff49aa9d7f0>"
      ]
     },
     "metadata": {},
     "output_type": "display_data"
    },
    {
     "name": "stdout",
     "output_type": "stream",
     "text": [
      "   Cluster  Row ID\n",
      "0        3       0\n",
      "1        3       1\n",
      "2        3       2\n",
      "3        3       3\n",
      "4        3       4\n",
      "True Cluster SSE : {1: 0.31284771797726363, 2: 0.9025336156215499, 3: 2.4301187182254433, 4: 1.910715466347143}\n",
      "True Overall SSE : 5.5562155181714\n",
      "True SSB : {1: 0.5792218388564331, 2: 0.3446316577376741, 3: 0.45901679771978393, 4: 0.5321896827999809}\n"
     ]
    }
   ],
   "source": [
    "plotClusters(x,k_clusters,\"Clusters\",\"x1\",\"x2\")\n",
    "plotClusters(x,true_clusters,\"True Clusters\",\"x1\",\"x2\")\n",
    "print(df_out.head())\n",
    "true_sse = clusterSSE(x,true_clusters,true_centers)\n",
    "print(\"True Cluster SSE : \" + str(true_sse))\n",
    "true_overall_sse = overallSSE(true_sse)\n",
    "print(\"True Overall SSE : \" + str(true_overall_sse))\n",
    "true_ssb = SSB(x,true_clusters,true_centers)\n",
    "print(\"True SSB : \" + str(true_ssb))"
   ]
  },
  {
   "cell_type": "code",
   "execution_count": null,
   "metadata": {
    "collapsed": true
   },
   "outputs": [],
   "source": []
  }
 ],
 "metadata": {
  "kernelspec": {
   "display_name": "Python 3",
   "language": "python",
   "name": "python3"
  },
  "language_info": {
   "codemirror_mode": {
    "name": "ipython",
    "version": 3
   },
   "file_extension": ".py",
   "mimetype": "text/x-python",
   "name": "python",
   "nbconvert_exporter": "python",
   "pygments_lexer": "ipython3",
   "version": "3.4.3"
  }
 },
 "nbformat": 4,
 "nbformat_minor": 2
}
