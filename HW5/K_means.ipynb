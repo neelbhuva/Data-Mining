{
 "cells": [
  {
   "cell_type": "markdown",
   "metadata": {},
   "source": [
    "###  K-means with Euclidena distance as proximity measure"
   ]
  },
  {
   "cell_type": "code",
   "execution_count": 258,
   "metadata": {
    "collapsed": true
   },
   "outputs": [],
   "source": [
    "import pandas as pd\n",
    "import numpy as np\n",
    "import math\n",
    "import matplotlib.pyplot as plt\n",
    "import random as rd"
   ]
  },
  {
   "cell_type": "code",
   "execution_count": 259,
   "metadata": {
    "collapsed": true
   },
   "outputs": [],
   "source": [
    "def getEucledian(a,b):\n",
    "    #print(a,b)\n",
    "    total = 0;\n",
    "    for i in range(0,len(a)):\n",
    "        diff = b[i] - a[i];\n",
    "        total += diff * diff;\n",
    "    return np.sqrt(total)"
   ]
  },
  {
   "cell_type": "code",
   "execution_count": 260,
   "metadata": {
    "collapsed": true
   },
   "outputs": [],
   "source": [
    "def normContinuousAttributes(df,labels):\n",
    "    for i in labels:\n",
    "        df[i] = df[[i]].apply(lambda x : (x - np.min(x))/(np.max(x) - np.min(x)))\n",
    "    return df"
   ]
  },
  {
   "cell_type": "code",
   "execution_count": 261,
   "metadata": {
    "collapsed": true
   },
   "outputs": [],
   "source": [
    "def clusterSSE(x,k_clusters,k_centers):\n",
    "    total = {} \n",
    "    for key,value in k_clusters.items():\n",
    "        s = 0\n",
    "        center = k_centers[key]\n",
    "        for i in value:\n",
    "            s = s + math.pow(getEucledian(x[i],center),2)\n",
    "        total[key] = s\n",
    "    return total       "
   ]
  },
  {
   "cell_type": "code",
   "execution_count": 262,
   "metadata": {
    "collapsed": true
   },
   "outputs": [],
   "source": [
    "def overallSSE(cluster_sse):\n",
    "    s = 0\n",
    "    for key,value in cluster_sse.items():\n",
    "        s = s + cluster_sse[key]\n",
    "    return s"
   ]
  },
  {
   "cell_type": "code",
   "execution_count": 263,
   "metadata": {
    "collapsed": true
   },
   "outputs": [],
   "source": [
    "def SSB(x,k_clusters,k_centers):\n",
    "    c = getMeanUsingIndex(x,list(range(0,len(x))))\n",
    "    keys = list(k_centers.keys())\n",
    "    s =  0\n",
    "    for j in keys:\n",
    "        t = len(k_clusters[j])\n",
    "        s = s + (t * math.pow(getEucledian(k_centers[j],c),2))\n",
    "    return s"
   ]
  },
  {
   "cell_type": "code",
   "execution_count": 264,
   "metadata": {
    "collapsed": true
   },
   "outputs": [],
   "source": [
    "def getMeanUsingIndex(x,indices):\n",
    "    total = []\n",
    "    for i in x[0]:\n",
    "        total.append(0)\n",
    "    #print(total)\n",
    "    for i in indices:\n",
    "        for j in range(0,len(total)):\n",
    "            total[j] = total[j] + x[i][j]\n",
    "    total = [f/len(indices) for f in total]\n",
    "    return (total)"
   ]
  },
  {
   "cell_type": "code",
   "execution_count": 265,
   "metadata": {
    "collapsed": true
   },
   "outputs": [],
   "source": [
    "def anyCenterChanged(k_centers,new_centers):\n",
    "    for key,value in k_centers.items():\n",
    "        if(k_centers[key] != new_centers[key]):\n",
    "            return True\n",
    "    return False"
   ]
  },
  {
   "cell_type": "code",
   "execution_count": 266,
   "metadata": {},
   "outputs": [],
   "source": [
    "def assignInputToClusters(x,k_centers):\n",
    "    #keep track of clusters\n",
    "    k_clusters = {}\n",
    "    # print(\"Centers : \")\n",
    "    # print(k_centers)\n",
    "    dissimilarity = []\n",
    "    #assign all input patterns to clusters\n",
    "    for key,i in k_centers.items():\n",
    "        for j in x:\n",
    "            dissimilarity.append(getEucledian(i,j)) #eucledian similarity\n",
    "\n",
    "    dissimilarity = np.reshape(dissimilarity,(len(k_centers),len(x)))\n",
    "    df_dissim = pd.DataFrame(data=dissimilarity)\n",
    "    #print(df_dissim)\n",
    "    for i in range(1,df_dissim.shape[0]+1):\n",
    "        k_clusters[i] = [];\n",
    "    for i in df_dissim.columns:\n",
    "        #print(df_dissim.nsmallest(1,i).index[0],end = \" \")\n",
    "        shortest_dist_index = df_dissim.nsmallest(1,i).index[0]\n",
    "        k_clusters[shortest_dist_index+1].append(i)\n",
    "    #print(k_clusters)\n",
    "    new_centers = {}\n",
    "    for key,value in k_clusters.items():\n",
    "        #print(key,value)\n",
    "        new_centers[key]  = getMeanUsingIndex(x,value)\n",
    "#     print(\"New Centers : \")\n",
    "#     print(new_centers)\n",
    "    if(anyCenterChanged(k_centers,new_centers)):\n",
    "        assignInputToClusters(x,new_centers)\n",
    "    return (new_centers,k_clusters)"
   ]
  },
  {
   "cell_type": "code",
   "execution_count": 267,
   "metadata": {
    "collapsed": true
   },
   "outputs": [],
   "source": [
    "def recomputeDist(x,centers):\n",
    "    dist = []\n",
    "    for i in x:\n",
    "        t = []\n",
    "        for key,value in centers.items():\n",
    "            t.append(getEucledian(i,value))\n",
    "        dist.append(np.min(t))\n",
    "    total = np.sum(dist)\n",
    "    prob_dist = [d/total for d in dist]\n",
    "    return dist,prob_dist"
   ]
  },
  {
   "cell_type": "code",
   "execution_count": 268,
   "metadata": {
    "collapsed": true
   },
   "outputs": [],
   "source": [
    "def kMeansPlusPlus(x,K,first_center):\n",
    "    k_centers = {}\n",
    "    #randomly select one center\n",
    "    #k_centers[1] = rd.sample(x,1)[0]\n",
    "    k_centers[1] = first_center\n",
    "    #print(\"First center : \" + str(k_centers[1]))\n",
    "    #calculate distance of all points to this center\n",
    "    dist = []\n",
    "    for i in x:\n",
    "        dist.append(math.pow(getEucledian(i,k_centers[1]),2))\n",
    "    total = np.sum(dist)\n",
    "    #get probability distribution for each point using the distance\n",
    "    prob_dist = [d/total for d in dist]\n",
    "    #select k centers using probability distribution\n",
    "    j = 2\n",
    "    index = list(range(0,len(x)))\n",
    "    while(not(len(k_centers) == K)):\n",
    "        i = np.random.choice(index,p=prob_dist)\n",
    "        k_centers[j] = x[i]\n",
    "        dist,prob_dist = recomputeDist(x,k_centers)\n",
    "        j = j + 1\n",
    "    return k_centers\n",
    "    "
   ]
  },
  {
   "cell_type": "code",
   "execution_count": 269,
   "metadata": {},
   "outputs": [],
   "source": [
    "def kMeans(x,K,kmeans_plus_plus,first_center):\n",
    "    #select K number of input patterns as cluster centers randomly\n",
    "    centers = rd.sample(x,K)\n",
    "    k_centers = {}\n",
    "    if(kmeans_plus_plus):\n",
    "        k_centers = kMeansPlusPlus(x,K,first_center)\n",
    "    else:\n",
    "        k_centers = {}\n",
    "        i = 1\n",
    "        for j in centers:\n",
    "            k_centers[i] = j\n",
    "            i = i + 1\n",
    "    (k_centers,k_clusters) = assignInputToClusters(x,k_centers)\n",
    "    return (k_clusters,k_centers)\n"
   ]
  },
  {
   "cell_type": "code",
   "execution_count": 270,
   "metadata": {
    "collapsed": true
   },
   "outputs": [],
   "source": [
    "def getOutFrame(k_clusters):\n",
    "    columns = [\"Row ID\",\"Cluster\"]\n",
    "    df_out = pd.DataFrame() \n",
    "    for key,values in k_clusters.items():\n",
    "        t = []\n",
    "        for i in values:\n",
    "            t.append(key)\n",
    "        df = pd.DataFrame({\"Row ID\" : values, \"Cluster\" : t})\n",
    "        df_out = df_out.append(df)\n",
    "        df_out = df_out.sort_values(\"Row ID\",ascending=True)\n",
    "#     indices = df_out[\"Row ID\"]\n",
    "#     indices = [x+1 for x in indices]\n",
    "#     df_out[\"Row ID\"] = indices\n",
    "    return df_out"
   ]
  },
  {
   "cell_type": "code",
   "execution_count": 271,
   "metadata": {
    "collapsed": true
   },
   "outputs": [],
   "source": [
    "def plotClusters(x,k_clusters,title,xlabel,ylabel):\n",
    "    fig1 = plt.figure(1)\n",
    "    for key,value in k_clusters.items():\n",
    "        c = [x[index] for index in value]\n",
    "        #print(c)\n",
    "        plt.scatter(*zip(*c),label=\"Cluster \" + str(key))\n",
    "    plt.xlabel(xlabel)\n",
    "    plt.ylabel(ylabel)\n",
    "    plt.title(title)\n",
    "    plt.legend()\n",
    "    plt.show()"
   ]
  },
  {
   "cell_type": "code",
   "execution_count": 272,
   "metadata": {
    "collapsed": true
   },
   "outputs": [],
   "source": [
    "def getTrueClusters(df,label):\n",
    "    k_clusters = {}\n",
    "    k_centers = {}\n",
    "    clusters = set(df[label])\n",
    "    #print(clusters)\n",
    "    df_temp = df.drop([\"ID\",label],axis=1)\n",
    "    x = df_temp.values.tolist()\n",
    "    for i in clusters:\n",
    "        a = df.loc[df[label] == i].index\n",
    "        #print(a)\n",
    "        k_clusters[i] = list(a)\n",
    "        k_centers[i] = getMeanUsingIndex(x,list(a))\n",
    "    #print(k_clusters)\n",
    "    return k_clusters,k_centers"
   ]
  },
  {
   "cell_type": "code",
   "execution_count": 273,
   "metadata": {
    "collapsed": true
   },
   "outputs": [],
   "source": [
    "def crossTabMatrix(k_clusters,true_clusters):\n",
    "    df = pd.DataFrame()\n",
    "    t = []\n",
    "    for key,value in k_clusters.items():\n",
    "        for a,b in true_clusters.items():\n",
    "            b3 = [val for val in value if val in b]\n",
    "            t.append(len(b3))\n",
    "    t = np.reshape(t,(len(k_clusters),len(true_clusters)))\n",
    "    columns = list(true_clusters.keys())\n",
    "    df_temp = pd.DataFrame(data=list(k_clusters.keys()),columns=[\"Cluster\"])\n",
    "    df = pd.DataFrame(data=t,columns=columns)\n",
    "    df = pd.concat([df_temp,df],axis=1)\n",
    "    df = df.set_index('Cluster')\n",
    "    return df"
   ]
  },
  {
   "cell_type": "markdown",
   "metadata": {},
   "source": [
    "### Read TwoDimHard.csv"
   ]
  },
  {
   "cell_type": "code",
   "execution_count": 274,
   "metadata": {
    "collapsed": true
   },
   "outputs": [],
   "source": [
    "def readTwoDimHard(file):\n",
    "    df_tdh = pd.read_csv(\"TwoDimHard.csv\")\n",
    "    true_clusters,true_centers = getTrueClusters(df_tdh,\"cluster\")\n",
    "    df_tdh = df_tdh.drop([\"ID\",\"cluster\"],axis=1)\n",
    "    x = df_tdh.values.tolist()\n",
    "    return x,true_clusters,true_centers"
   ]
  },
  {
   "cell_type": "markdown",
   "metadata": {},
   "source": [
    "### Read Wine.csv"
   ]
  },
  {
   "cell_type": "code",
   "execution_count": 275,
   "metadata": {
    "collapsed": true
   },
   "outputs": [],
   "source": [
    "def readWine(file):\n",
    "    df_wine = pd.read_csv(\"wine.csv\")\n",
    "    df_wine = df_wine.drop([\"class\"],axis=1)\n",
    "    labels = [\"fx_acidity\",\"resid_sugar\",\"free_sulf_d\",\"tot_sulf_d\",\"pH\",\"alcohol\"]\n",
    "    df_wine = normContinuousAttributes(df_wine,labels)\n",
    "    true_clusters,true_centers = getTrueClusters(df_wine,\"quality\")\n",
    "    df_wine = df_wine.drop([\"ID\",\"quality\"],axis=1)\n",
    "    x = df_wine.values.tolist()\n",
    "    return x,true_clusters,true_centers"
   ]
  },
  {
   "cell_type": "markdown",
   "metadata": {},
   "source": [
    "### To run K-means for wine dataset, assign True to wine variable. Otherwise TwoDimHard will be used"
   ]
  },
  {
   "cell_type": "code",
   "execution_count": 276,
   "metadata": {
    "collapsed": true
   },
   "outputs": [],
   "source": [
    "wine = False\n",
    "if(wine):\n",
    "    x,true_clusters,true_centers = readWine(\"wine.csv\")\n",
    "else:\n",
    "    x,true_clusters,true_centers = readTwoDimHard(\"TwoDimHard.csv\")"
   ]
  },
  {
   "cell_type": "code",
   "execution_count": 277,
   "metadata": {},
   "outputs": [],
   "source": [
    "# wine = True\n",
    "# df_tdh = pd.read_csv(\"wine.csv\")\n",
    "# df_tdh = df_tdh.drop([\"class\"],axis=1)\n",
    "# #df_tdh['quality'] = df_tdh['quality'].map({3:1,4:2,5:3,6:4,7:5,8:6})\n",
    "# labels = [\"fx_acidity\",\"resid_sugar\",\"free_sulf_d\",\"tot_sulf_d\",\"pH\",\"alcohol\"]\n",
    "# df_tdh = normContinuousAttributes(df_tdh,labels)\n",
    "# true_clusters,true_centers = getTrueClusters(df_tdh,\"quality\")\n",
    "# df_tdh = df_tdh.drop([\"ID\",\"quality\"],axis=1)\n",
    "# x = df_tdh.values.tolist()"
   ]
  },
  {
   "cell_type": "markdown",
   "metadata": {},
   "source": [
    "### True Cluster SSE and SSB"
   ]
  },
  {
   "cell_type": "code",
   "execution_count": 278,
   "metadata": {},
   "outputs": [
    {
     "name": "stdout",
     "output_type": "stream",
     "text": [
      "True Cluster SSE : {1: 0.31284771797726363, 2: 0.9025336156215499, 3: 2.4301187182254433, 4: 1.910715466347143}\n",
      "True Overall SSE : 5.5562155181714\n",
      "True SSB : 23.748125616409855\n"
     ]
    }
   ],
   "source": [
    "true_sse = clusterSSE(x,true_clusters,true_centers)\n",
    "print(\"True Cluster SSE : \" + str(true_sse))\n",
    "true_overall_sse = overallSSE(true_sse)\n",
    "print(\"True Overall SSE : \" + str(true_overall_sse))\n",
    "true_ssb = SSB(x,true_clusters,true_centers)\n",
    "print(\"True SSB : \" + str(true_ssb))"
   ]
  },
  {
   "cell_type": "markdown",
   "metadata": {},
   "source": [
    "### Input k"
   ]
  },
  {
   "cell_type": "code",
   "execution_count": 279,
   "metadata": {},
   "outputs": [
    {
     "name": "stdout",
     "output_type": "stream",
     "text": [
      "Enter K : 4\n"
     ]
    }
   ],
   "source": [
    "#first_center = rd.sample(x,1)[0]\n",
    "k = int(input(\"Enter K : \"))\n",
    "t = []\n",
    "t1 = []\n",
    "k_clusters =  {}\n",
    "k_centers = {}\n",
    "best_centers = {}\n",
    "best_sse = 300\n",
    "best_ssb = 0\n",
    "columns = [\"Cluster\",\"Overall SSE\",\"SSB\"]\n",
    "#df_table = pd.DataFrame({\"Cluster\" : [], \"Overall SSE\" : [], \"Overall SSB\" : []})\n",
    "df_table = pd.DataFrame()"
   ]
  },
  {
   "cell_type": "markdown",
   "metadata": {},
   "source": [
    "### n1 = 0 and n2 = 1 : Run K-means once. n1 = 0 and n2 = 10 : Run K-means 10 times"
   ]
  },
  {
   "cell_type": "code",
   "execution_count": 280,
   "metadata": {},
   "outputs": [
    {
     "name": "stdout",
     "output_type": "stream",
     "text": [
      "Iteration : 0\n",
      "Cluster SSE : {1: 1.1917710975363784, 2: 0.26880419553900814, 3: 7.941110013679204, 4: 0.816501698431555}\n",
      "Overall SSE : 10.218187005186145\n",
      "SSB : 19.086154129395087\n",
      "Iteration : 1\n",
      "Cluster SSE : {1: 3.9594467135778917, 2: 3.0508439785318386, 3: 1.7370539648696388, 4: 0.635489738278328}\n",
      "Overall SSE : 9.382834395257696\n",
      "SSB : 19.921506739323537\n",
      "Iteration : 2\n",
      "Cluster SSE : {1: 3.1141918257936827, 2: 1.129974384697563, 3: 0.856117709775622, 4: 0.7126898338784103}\n",
      "Overall SSE : 5.812973754145277\n",
      "SSB : 23.491367380435975\n",
      "Iteration : 3\n",
      "Cluster SSE : {1: 2.309376036185425, 2: 11.683553456451278, 3: 0.06515844653309895, 4: 0.10728478719303286}\n",
      "Overall SSE : 14.165372726362834\n",
      "SSB : 15.138968408218442\n",
      "Iteration : 4\n",
      "Cluster SSE : {1: 0.5180398743373332, 2: 10.948816277064353, 3: 0.6963904931689064, 4: 0.06932765371535428}\n",
      "Overall SSE : 12.232574298285947\n",
      "SSB : 17.0717668362953\n",
      "Iteration : 5\n",
      "Cluster SSE : {1: 0.47310201857710343, 2: 5.89776015076315, 3: 0.9260018924891988, 4: 1.6558749057687365}\n",
      "Overall SSE : 8.95273896759819\n",
      "SSB : 20.35160216698304\n",
      "Iteration : 6\n",
      "Cluster SSE : {1: 1.3843151288639004, 2: 6.590820183461518, 3: 0.3085067927677433, 4: 0.921209043931382}\n",
      "Overall SSE : 9.204851149024543\n",
      "SSB : 20.099489985556662\n",
      "Iteration : 7\n",
      "Cluster SSE : {1: 3.3268332815735078, 2: 2.5247682946512264, 3: 1.919365980138757, 4: 0.5216870857316104}\n",
      "Overall SSE : 8.292654642095101\n",
      "SSB : 21.011686492486138\n",
      "Iteration : 8\n",
      "Cluster SSE : {1: 0.5851994928157398, 2: 1.3879887698789697, 3: 2.9255358904832267, 4: 3.728882592190454}\n",
      "Overall SSE : 8.62760674536839\n",
      "SSB : 20.676734389212854\n",
      "Iteration : 9\n",
      "Cluster SSE : {1: 2.216041232549336, 2: 0.32015216354172127, 3: 0.335037717151501, 4: 8.45659525211878}\n",
      "Overall SSE : 11.327826365361338\n",
      "SSB : 17.976514769219868\n"
     ]
    }
   ],
   "source": [
    "n1 = 0\n",
    "n2 = 10\n",
    "first_center = rd.sample(x,1)[0]\n",
    "for i in range(n1,n2):\n",
    "    #first_center = rd.sample(x,1)[0]\n",
    "    print(\"Iteration : \" + str(i))\n",
    "    (k_clusters,k_centers) = kMeans(x,k,False,first_center)\n",
    "    #print(k_centers)\n",
    "    sse = clusterSSE(x,k_clusters,k_centers)\n",
    "    print(\"Cluster SSE : \" + str(sse))\n",
    "    overall_sse = overallSSE(sse)\n",
    "    print(\"Overall SSE : \" + str(overall_sse))\n",
    "    t.append(overall_sse)\n",
    "    ssb = SSB(x,k_clusters,k_centers)\n",
    "    print(\"SSB : \" + str(ssb))\n",
    "    t1.append(ssb)\n",
    "    if(overall_sse > best_sse ):\n",
    "        best_sse = overall_sse\n",
    "        global best_clusters\n",
    "        best_clusters = k_clusters\n",
    "        global best_centers\n",
    "        best_centers = k_centers\n",
    "        best_ssb = ssb\n",
    "        global best_cluster_sse\n",
    "        best_cluster_sse = sse\n",
    "    df = pd.DataFrame({\"Cluster\" : \"Assigned Cluster\", \"Overall SSE\" : [overall_sse],\"SSB\" : [ssb]})\n",
    "    df_table = df_table.append(df) \n",
    "    df = pd.DataFrame({\"Cluster\" : \"True Cluster\", \"Overall SSE\" : [true_overall_sse],\"SSB\" : [true_ssb]})\n",
    "    df_table = df_table.append(df)\n",
    "    df_table = df_table.set_index('Cluster')\n",
    "df_cross = crossTabMatrix(k_clusters,true_clusters)\n",
    "df_out = getOutFrame(k_clusters)\n",
    "if(wine):\n",
    "    df_out.to_csv(\"wine_output.csv\")\n",
    "else:\n",
    "    df_out.to_csv(\"TwoDimHard_output.csv\")"
   ]
  },
  {
   "cell_type": "code",
   "execution_count": 281,
   "metadata": {},
   "outputs": [
    {
     "data": {
      "text/html": [
       "<div>\n",
       "<style>\n",
       "    .dataframe thead tr:only-child th {\n",
       "        text-align: right;\n",
       "    }\n",
       "\n",
       "    .dataframe thead th {\n",
       "        text-align: left;\n",
       "    }\n",
       "\n",
       "    .dataframe tbody tr th {\n",
       "        vertical-align: top;\n",
       "    }\n",
       "</style>\n",
       "<table border=\"1\" class=\"dataframe\">\n",
       "  <thead>\n",
       "    <tr style=\"text-align: right;\">\n",
       "      <th></th>\n",
       "      <th>1</th>\n",
       "      <th>2</th>\n",
       "      <th>3</th>\n",
       "      <th>4</th>\n",
       "    </tr>\n",
       "    <tr>\n",
       "      <th>Cluster</th>\n",
       "      <th></th>\n",
       "      <th></th>\n",
       "      <th></th>\n",
       "      <th></th>\n",
       "    </tr>\n",
       "  </thead>\n",
       "  <tbody>\n",
       "    <tr>\n",
       "      <th>1</th>\n",
       "      <td>1</td>\n",
       "      <td>0</td>\n",
       "      <td>88</td>\n",
       "      <td>2</td>\n",
       "    </tr>\n",
       "    <tr>\n",
       "      <th>2</th>\n",
       "      <td>0</td>\n",
       "      <td>0</td>\n",
       "      <td>0</td>\n",
       "      <td>47</td>\n",
       "    </tr>\n",
       "    <tr>\n",
       "      <th>3</th>\n",
       "      <td>0</td>\n",
       "      <td>0</td>\n",
       "      <td>5</td>\n",
       "      <td>33</td>\n",
       "    </tr>\n",
       "    <tr>\n",
       "      <th>4</th>\n",
       "      <td>88</td>\n",
       "      <td>100</td>\n",
       "      <td>4</td>\n",
       "      <td>32</td>\n",
       "    </tr>\n",
       "  </tbody>\n",
       "</table>\n",
       "</div>"
      ],
      "text/plain": [
       "          1    2   3   4\n",
       "Cluster                 \n",
       "1         1    0  88   2\n",
       "2         0    0   0  47\n",
       "3         0    0   5  33\n",
       "4        88  100   4  32"
      ]
     },
     "execution_count": 281,
     "metadata": {},
     "output_type": "execute_result"
    }
   ],
   "source": [
    "df_cross.head()"
   ]
  },
  {
   "cell_type": "code",
   "execution_count": 282,
   "metadata": {},
   "outputs": [],
   "source": [
    "#df_table.head()"
   ]
  },
  {
   "cell_type": "code",
   "execution_count": 283,
   "metadata": {},
   "outputs": [
    {
     "name": "stdout",
     "output_type": "stream",
     "text": [
      "Overall SSE's : [10.218187005186145, 9.382834395257696, 5.812973754145277, 14.165372726362834, 12.232574298285947, 8.95273896759819, 9.204851149024543, 8.292654642095101, 8.62760674536839, 11.327826365361338]\n",
      "Best SSE : 5.81297375415\n",
      "Average SSE : 9.82176200487\n",
      "Worst SSE : 14.1653727264\n",
      "Overall SSB's : [19.086154129395087, 19.921506739323537, 23.491367380435975, 15.138968408218442, 17.0717668362953, 20.35160216698304, 20.099489985556662, 21.011686492486138, 20.676734389212854, 17.976514769219868]\n",
      "Best SSB : 15.1389684082\n",
      "Average SSB : 19.4825791297\n",
      "Worst SSB : 23.4913673804\n"
     ]
    }
   ],
   "source": [
    "best_overall_sse = np.min(t)\n",
    "print(\"Overall SSE's : \" + str(t))\n",
    "print(\"Best SSE : \" + str(best_overall_sse))\n",
    "print(\"Average SSE : \" + str(np.average(t)))\n",
    "print(\"Worst SSE : \" + str(np.max(t)))\n",
    "best_overall_ssb = np.min(t1)\n",
    "print(\"Overall SSB's : \" + str(t1))\n",
    "print(\"Best SSB : \" + str(best_overall_ssb))\n",
    "print(\"Average SSB : \" + str(np.average(t1)))\n",
    "print(\"Worst SSB : \" + str(np.max(t1)))"
   ]
  },
  {
   "cell_type": "code",
   "execution_count": 284,
   "metadata": {},
   "outputs": [
    {
     "data": {
      "text/html": [
       "<div>\n",
       "<style>\n",
       "    .dataframe thead tr:only-child th {\n",
       "        text-align: right;\n",
       "    }\n",
       "\n",
       "    .dataframe thead th {\n",
       "        text-align: left;\n",
       "    }\n",
       "\n",
       "    .dataframe tbody tr th {\n",
       "        vertical-align: top;\n",
       "    }\n",
       "</style>\n",
       "<table border=\"1\" class=\"dataframe\">\n",
       "  <thead>\n",
       "    <tr style=\"text-align: right;\">\n",
       "      <th></th>\n",
       "      <th>Cluster</th>\n",
       "      <th>Row ID</th>\n",
       "    </tr>\n",
       "  </thead>\n",
       "  <tbody>\n",
       "    <tr>\n",
       "      <th>0</th>\n",
       "      <td>4</td>\n",
       "      <td>0</td>\n",
       "    </tr>\n",
       "    <tr>\n",
       "      <th>1</th>\n",
       "      <td>4</td>\n",
       "      <td>1</td>\n",
       "    </tr>\n",
       "    <tr>\n",
       "      <th>2</th>\n",
       "      <td>4</td>\n",
       "      <td>2</td>\n",
       "    </tr>\n",
       "    <tr>\n",
       "      <th>3</th>\n",
       "      <td>4</td>\n",
       "      <td>3</td>\n",
       "    </tr>\n",
       "    <tr>\n",
       "      <th>4</th>\n",
       "      <td>4</td>\n",
       "      <td>4</td>\n",
       "    </tr>\n",
       "  </tbody>\n",
       "</table>\n",
       "</div>"
      ],
      "text/plain": [
       "   Cluster  Row ID\n",
       "0        4       0\n",
       "1        4       1\n",
       "2        4       2\n",
       "3        4       3\n",
       "4        4       4"
      ]
     },
     "execution_count": 284,
     "metadata": {},
     "output_type": "execute_result"
    }
   ],
   "source": [
    "#plt.subplot(1,1,1)\n",
    "#plotClusters(x,k_clusters,\"Clusters with K = \" + str(k),\"x1\",\"x2\")\n",
    "#plt.subplot(1,1,2)\n",
    "#plotClusters(x,true_clusters,\"True Clusters with K = \" + str(len(true_centers)),\"x1\",\"x2\")\n",
    "df_out.head()"
   ]
  },
  {
   "cell_type": "code",
   "execution_count": 285,
   "metadata": {},
   "outputs": [],
   "source": [
    "def plot(y,k_list,ylabel,title):\n",
    "    my_xticks = k_list\n",
    "    s = list(range(0,len(k_list)))\n",
    "    plt.xticks(s, my_xticks)\n",
    "    print(s,y)\n",
    "    plt.plot(s,y)\n",
    "    plt.xlabel(\"k\")\n",
    "    plt.ylabel(ylabel)\n",
    "    plt.title(title)\n",
    "    plt.show()"
   ]
  },
  {
   "cell_type": "code",
   "execution_count": 286,
   "metadata": {},
   "outputs": [],
   "source": [
    "# print(best_sse)\n",
    "# print(best_cluster_sse)\n",
    "# print(best_ssb)"
   ]
  },
  {
   "cell_type": "markdown",
   "metadata": {},
   "source": [
    "### For Wine Dataset"
   ]
  },
  {
   "cell_type": "code",
   "execution_count": 287,
   "metadata": {},
   "outputs": [],
   "source": [
    "if(wine):\n",
    "    plot(t,list(range(n1,n2)),\"Overall SSE\",\"Overall SSE vs K\")\n",
    "    plot(t1,list(range(n1,n2)),\"SSB\",\"SSB vs K\")"
   ]
  },
  {
   "cell_type": "code",
   "execution_count": null,
   "metadata": {
    "collapsed": true
   },
   "outputs": [],
   "source": []
  }
 ],
 "metadata": {
  "kernelspec": {
   "display_name": "Python 3",
   "language": "python",
   "name": "python3"
  },
  "language_info": {
   "codemirror_mode": {
    "name": "ipython",
    "version": 3
   },
   "file_extension": ".py",
   "mimetype": "text/x-python",
   "name": "python",
   "nbconvert_exporter": "python",
   "pygments_lexer": "ipython3",
   "version": "3.4.3"
  }
 },
 "nbformat": 4,
 "nbformat_minor": 2
}
