{
 "cells": [
  {
   "cell_type": "markdown",
   "metadata": {},
   "source": [
    "###  K-means with Euclidena distance as proximity measure"
   ]
  },
  {
   "cell_type": "code",
   "execution_count": 312,
   "metadata": {
    "collapsed": true
   },
   "outputs": [],
   "source": [
    "import pandas as pd\n",
    "import numpy as np\n",
    "import math\n",
    "import matplotlib.pyplot as plt\n",
    "import random as rd"
   ]
  },
  {
   "cell_type": "code",
   "execution_count": 313,
   "metadata": {
    "collapsed": true
   },
   "outputs": [],
   "source": [
    "def getEucledian(a,b):\n",
    "    #print(a,b)\n",
    "    total = 0;\n",
    "    for i in range(0,len(a)):\n",
    "        diff = b[i] - a[i];\n",
    "        total += diff * diff;\n",
    "    return np.sqrt(total)"
   ]
  },
  {
   "cell_type": "code",
   "execution_count": 314,
   "metadata": {
    "collapsed": true
   },
   "outputs": [],
   "source": [
    "def normContinuousAttributes(df,labels):\n",
    "    for i in labels:\n",
    "        df[i] = df[[i]].apply(lambda x : (x - np.min(x))/(np.max(x) - np.min(x)))\n",
    "    return df"
   ]
  },
  {
   "cell_type": "code",
   "execution_count": 315,
   "metadata": {
    "collapsed": true
   },
   "outputs": [],
   "source": [
    "def clusterSSE(x,k_clusters,k_centers):\n",
    "    total = {} \n",
    "    for key,value in k_clusters.items():\n",
    "        s = 0\n",
    "        center = k_centers[key]\n",
    "        for i in value:\n",
    "            s = s + math.pow(getEucledian(x[i],center),2)\n",
    "        total[key] = s\n",
    "    return total       "
   ]
  },
  {
   "cell_type": "code",
   "execution_count": 316,
   "metadata": {
    "collapsed": true
   },
   "outputs": [],
   "source": [
    "def overallSSE(cluster_sse):\n",
    "    s = 0\n",
    "    for key,value in cluster_sse.items():\n",
    "        s = s + cluster_sse[key]\n",
    "    return s"
   ]
  },
  {
   "cell_type": "code",
   "execution_count": 317,
   "metadata": {
    "collapsed": true
   },
   "outputs": [],
   "source": [
    "def SSB(x,k_clusters,k_centers):\n",
    "    c = getMeanUsingIndex(x,list(range(0,len(x))))\n",
    "    keys = list(k_centers.keys())\n",
    "    s =  0\n",
    "    for j in keys:\n",
    "        t = len(k_clusters[j])\n",
    "        s = s + (t * math.pow(getEucledian(k_centers[j],c),2))\n",
    "    return s"
   ]
  },
  {
   "cell_type": "code",
   "execution_count": 318,
   "metadata": {
    "collapsed": true
   },
   "outputs": [],
   "source": [
    "def getMeanUsingIndex(x,indices):\n",
    "    total = []\n",
    "    for i in x[0]:\n",
    "        total.append(0)\n",
    "    #print(total)\n",
    "    for i in indices:\n",
    "        for j in range(0,len(total)):\n",
    "            total[j] = total[j] + x[i][j]\n",
    "    total = [f/len(indices) for f in total]\n",
    "    return (total)"
   ]
  },
  {
   "cell_type": "code",
   "execution_count": 319,
   "metadata": {
    "collapsed": true
   },
   "outputs": [],
   "source": [
    "def anyCenterChanged(k_centers,new_centers):\n",
    "    for key,value in k_centers.items():\n",
    "        if(k_centers[key] != new_centers[key]):\n",
    "            return True\n",
    "    return False"
   ]
  },
  {
   "cell_type": "code",
   "execution_count": 320,
   "metadata": {},
   "outputs": [],
   "source": [
    "def assignInputToClusters(x,k_centers):\n",
    "    #keep track of clusters\n",
    "    k_clusters = {}\n",
    "    # print(\"Centers : \")\n",
    "    # print(k_centers)\n",
    "    dissimilarity = []\n",
    "    #assign all input patterns to clusters\n",
    "    for key,i in k_centers.items():\n",
    "        for j in x:\n",
    "            dissimilarity.append(getEucledian(i,j)) #eucledian similarity\n",
    "\n",
    "    dissimilarity = np.reshape(dissimilarity,(len(k_centers),len(x)))\n",
    "    df_dissim = pd.DataFrame(data=dissimilarity)\n",
    "    #print(df_dissim)\n",
    "    for i in range(1,df_dissim.shape[0]+1):\n",
    "        k_clusters[i] = [];\n",
    "    for i in df_dissim.columns:\n",
    "        #print(df_dissim.nsmallest(1,i).index[0],end = \" \")\n",
    "        shortest_dist_index = df_dissim.nsmallest(1,i).index[0]\n",
    "        k_clusters[shortest_dist_index+1].append(i)\n",
    "    #print(k_clusters)\n",
    "    new_centers = {}\n",
    "    for key,value in k_clusters.items():\n",
    "        #print(key,value)\n",
    "        new_centers[key]  = getMeanUsingIndex(x,value)\n",
    "#     print(\"New Centers : \")\n",
    "#     print(new_centers)\n",
    "    if(anyCenterChanged(k_centers,new_centers)):\n",
    "        assignInputToClusters(x,new_centers)\n",
    "    return (new_centers,k_clusters)"
   ]
  },
  {
   "cell_type": "code",
   "execution_count": 321,
   "metadata": {
    "collapsed": true
   },
   "outputs": [],
   "source": [
    "def recomputeDist(x,centers):\n",
    "    dist = []\n",
    "    for i in x:\n",
    "        t = []\n",
    "        for key,value in centers.items():\n",
    "            t.append(getEucledian(i,value))\n",
    "        dist.append(np.min(t))\n",
    "    total = np.sum(dist)\n",
    "    prob_dist = [d/total for d in dist]\n",
    "    return dist,prob_dist"
   ]
  },
  {
   "cell_type": "code",
   "execution_count": 322,
   "metadata": {
    "collapsed": true
   },
   "outputs": [],
   "source": [
    "def kMeansPlusPlus(x,K,first_center):\n",
    "    k_centers = {}\n",
    "    #randomly select one center\n",
    "    #k_centers[1] = rd.sample(x,1)[0]\n",
    "    k_centers[1] = first_center\n",
    "    #print(\"First center : \" + str(k_centers[1]))\n",
    "    #calculate distance of all points to this center\n",
    "    dist = []\n",
    "    for i in x:\n",
    "        dist.append(math.pow(getEucledian(i,k_centers[1]),2))\n",
    "    total = np.sum(dist)\n",
    "    #get probability distribution for each point using the distance\n",
    "    prob_dist = [d/total for d in dist]\n",
    "    #select k centers using probability distribution\n",
    "    j = 2\n",
    "    index = list(range(0,len(x)))\n",
    "    while(not(len(k_centers) == K)):\n",
    "        i = np.random.choice(index,p=prob_dist)\n",
    "        k_centers[j] = x[i]\n",
    "        dist,prob_dist = recomputeDist(x,k_centers)\n",
    "        j = j + 1\n",
    "    return k_centers\n",
    "    "
   ]
  },
  {
   "cell_type": "code",
   "execution_count": 323,
   "metadata": {},
   "outputs": [],
   "source": [
    "def kMeans(x,K,kmeans_plus_plus,first_center):\n",
    "    #select K number of input patterns as cluster centers randomly\n",
    "    centers = rd.sample(x,K)\n",
    "    k_centers = {}\n",
    "    if(kmeans_plus_plus):\n",
    "        k_centers = kMeansPlusPlus(x,K,first_center)\n",
    "    else:\n",
    "        k_centers = {}\n",
    "        i = 1\n",
    "        for j in centers:\n",
    "            k_centers[i] = j\n",
    "            i = i + 1\n",
    "    (k_centers,k_clusters) = assignInputToClusters(x,k_centers)\n",
    "    return (k_clusters,k_centers)\n"
   ]
  },
  {
   "cell_type": "code",
   "execution_count": 324,
   "metadata": {
    "collapsed": true
   },
   "outputs": [],
   "source": [
    "def getOutFrame(k_clusters):\n",
    "    columns = [\"Row ID\",\"Cluster\"]\n",
    "    df_out = pd.DataFrame() \n",
    "    for key,values in k_clusters.items():\n",
    "        t = []\n",
    "        for i in values:\n",
    "            t.append(key)\n",
    "        df = pd.DataFrame({\"Row ID\" : values, \"Cluster\" : t})\n",
    "        df_out = df_out.append(df)\n",
    "        df_out = df_out.sort_values(\"Row ID\",ascending=True)\n",
    "#     indices = df_out[\"Row ID\"]\n",
    "#     indices = [x+1 for x in indices]\n",
    "#     df_out[\"Row ID\"] = indices\n",
    "    return df_out"
   ]
  },
  {
   "cell_type": "code",
   "execution_count": 325,
   "metadata": {
    "collapsed": true
   },
   "outputs": [],
   "source": [
    "def plotClusters(x,k_clusters,title,xlabel,ylabel):\n",
    "    fig1 = plt.figure(1)\n",
    "    for key,value in k_clusters.items():\n",
    "        c = [x[index] for index in value]\n",
    "        #print(c)\n",
    "        plt.scatter(*zip(*c),label=\"Cluster \" + str(key))\n",
    "    plt.xlabel(xlabel)\n",
    "    plt.ylabel(ylabel)\n",
    "    plt.title(title)\n",
    "    plt.legend()\n",
    "    plt.show()"
   ]
  },
  {
   "cell_type": "code",
   "execution_count": 326,
   "metadata": {
    "collapsed": true
   },
   "outputs": [],
   "source": [
    "def getTrueClusters(df,label):\n",
    "    k_clusters = {}\n",
    "    k_centers = {}\n",
    "    clusters = set(df[label])\n",
    "    #print(clusters)\n",
    "    df_temp = df.drop([\"ID\",label],axis=1)\n",
    "    x = df_temp.values.tolist()\n",
    "    for i in clusters:\n",
    "        a = df.loc[df[label] == i].index\n",
    "        #print(a)\n",
    "        k_clusters[i] = list(a)\n",
    "        k_centers[i] = getMeanUsingIndex(x,list(a))\n",
    "    #print(k_clusters)\n",
    "    return k_clusters,k_centers"
   ]
  },
  {
   "cell_type": "code",
   "execution_count": 327,
   "metadata": {
    "collapsed": true
   },
   "outputs": [],
   "source": [
    "def crossTabMatrix(k_clusters,true_clusters):\n",
    "    df = pd.DataFrame()\n",
    "    t = []\n",
    "    for key,value in k_clusters.items():\n",
    "        for a,b in true_clusters.items():\n",
    "            b3 = [val for val in value if val in b]\n",
    "            t.append(len(b3))\n",
    "    t = np.reshape(t,(len(k_clusters),len(true_clusters)))\n",
    "    columns = list(true_clusters.keys())\n",
    "    df_temp = pd.DataFrame(data=list(k_clusters.keys()),columns=[\"Cluster\"])\n",
    "    df = pd.DataFrame(data=t,columns=columns)\n",
    "    df = pd.concat([df_temp,df],axis=1)\n",
    "    df = df.set_index('Cluster')\n",
    "    return df"
   ]
  },
  {
   "cell_type": "code",
   "execution_count": 328,
   "metadata": {},
   "outputs": [
    {
     "data": {
      "text/html": [
       "<div>\n",
       "<style>\n",
       "    .dataframe thead tr:only-child th {\n",
       "        text-align: right;\n",
       "    }\n",
       "\n",
       "    .dataframe thead th {\n",
       "        text-align: left;\n",
       "    }\n",
       "\n",
       "    .dataframe tbody tr th {\n",
       "        vertical-align: top;\n",
       "    }\n",
       "</style>\n",
       "<table border=\"1\" class=\"dataframe\">\n",
       "  <thead>\n",
       "    <tr style=\"text-align: right;\">\n",
       "      <th></th>\n",
       "      <th>fx_acidity</th>\n",
       "      <th>vol_acidity</th>\n",
       "      <th>citric_acid</th>\n",
       "      <th>resid_sugar</th>\n",
       "      <th>chlorides</th>\n",
       "      <th>free_sulf_d</th>\n",
       "      <th>tot_sulf_d</th>\n",
       "      <th>density</th>\n",
       "      <th>pH</th>\n",
       "      <th>sulph</th>\n",
       "      <th>alcohol</th>\n",
       "    </tr>\n",
       "  </thead>\n",
       "  <tbody>\n",
       "    <tr>\n",
       "      <th>0</th>\n",
       "      <td>0.247788</td>\n",
       "      <td>0.70</td>\n",
       "      <td>0.00</td>\n",
       "      <td>0.068493</td>\n",
       "      <td>0.076</td>\n",
       "      <td>0.140845</td>\n",
       "      <td>0.098940</td>\n",
       "      <td>0.9978</td>\n",
       "      <td>0.606299</td>\n",
       "      <td>0.56</td>\n",
       "      <td>0.153846</td>\n",
       "    </tr>\n",
       "    <tr>\n",
       "      <th>1</th>\n",
       "      <td>0.283186</td>\n",
       "      <td>0.88</td>\n",
       "      <td>0.00</td>\n",
       "      <td>0.116438</td>\n",
       "      <td>0.098</td>\n",
       "      <td>0.338028</td>\n",
       "      <td>0.215548</td>\n",
       "      <td>0.9968</td>\n",
       "      <td>0.362205</td>\n",
       "      <td>0.68</td>\n",
       "      <td>0.215385</td>\n",
       "    </tr>\n",
       "    <tr>\n",
       "      <th>2</th>\n",
       "      <td>0.283186</td>\n",
       "      <td>0.76</td>\n",
       "      <td>0.04</td>\n",
       "      <td>0.095890</td>\n",
       "      <td>0.092</td>\n",
       "      <td>0.197183</td>\n",
       "      <td>0.169611</td>\n",
       "      <td>0.9970</td>\n",
       "      <td>0.409449</td>\n",
       "      <td>0.65</td>\n",
       "      <td>0.215385</td>\n",
       "    </tr>\n",
       "    <tr>\n",
       "      <th>3</th>\n",
       "      <td>0.584071</td>\n",
       "      <td>0.28</td>\n",
       "      <td>0.56</td>\n",
       "      <td>0.068493</td>\n",
       "      <td>0.075</td>\n",
       "      <td>0.225352</td>\n",
       "      <td>0.190813</td>\n",
       "      <td>0.9980</td>\n",
       "      <td>0.330709</td>\n",
       "      <td>0.58</td>\n",
       "      <td>0.215385</td>\n",
       "    </tr>\n",
       "    <tr>\n",
       "      <th>4</th>\n",
       "      <td>0.247788</td>\n",
       "      <td>0.70</td>\n",
       "      <td>0.00</td>\n",
       "      <td>0.068493</td>\n",
       "      <td>0.076</td>\n",
       "      <td>0.140845</td>\n",
       "      <td>0.098940</td>\n",
       "      <td>0.9978</td>\n",
       "      <td>0.606299</td>\n",
       "      <td>0.56</td>\n",
       "      <td>0.153846</td>\n",
       "    </tr>\n",
       "  </tbody>\n",
       "</table>\n",
       "</div>"
      ],
      "text/plain": [
       "   fx_acidity  vol_acidity  citric_acid  resid_sugar  chlorides  free_sulf_d  \\\n",
       "0    0.247788         0.70         0.00     0.068493      0.076     0.140845   \n",
       "1    0.283186         0.88         0.00     0.116438      0.098     0.338028   \n",
       "2    0.283186         0.76         0.04     0.095890      0.092     0.197183   \n",
       "3    0.584071         0.28         0.56     0.068493      0.075     0.225352   \n",
       "4    0.247788         0.70         0.00     0.068493      0.076     0.140845   \n",
       "\n",
       "   tot_sulf_d  density        pH  sulph   alcohol  \n",
       "0    0.098940   0.9978  0.606299   0.56  0.153846  \n",
       "1    0.215548   0.9968  0.362205   0.68  0.215385  \n",
       "2    0.169611   0.9970  0.409449   0.65  0.215385  \n",
       "3    0.190813   0.9980  0.330709   0.58  0.215385  \n",
       "4    0.098940   0.9978  0.606299   0.56  0.153846  "
      ]
     },
     "execution_count": 328,
     "metadata": {},
     "output_type": "execute_result"
    }
   ],
   "source": [
    "df_tdh = pd.read_csv(\"wine.csv\")\n",
    "df_tdh = df_tdh.drop([\"class\"],axis=1)\n",
    "#df_tdh['quality'] = df_tdh['quality'].map({3:1,4:2,5:3,6:4,7:5,8:6})\n",
    "labels = [\"fx_acidity\",\"resid_sugar\",\"free_sulf_d\",\"tot_sulf_d\",\"pH\",\"alcohol\"]\n",
    "df_tdh = normContinuousAttributes(df_tdh,labels)\n",
    "true_clusters,true_centers = getTrueClusters(df_tdh,\"quality\")\n",
    "df_tdh = df_tdh.drop([\"ID\",\"quality\"],axis=1)\n",
    "# df_tdh = pd.read_csv(\"TwoDimHard.csv\")\n",
    "# true_clusters,true_centers = getTrueClusters(df_tdh,\"cluster\")\n",
    "# df_tdh = df_tdh.drop([\"ID\",\"cluster\"],axis=1)\n",
    "x = df_tdh.values.tolist()\n",
    "# keys = true_centers.keys()\n",
    "df_tdh.head()\n",
    "#print(true_centers)"
   ]
  },
  {
   "cell_type": "code",
   "execution_count": 329,
   "metadata": {},
   "outputs": [
    {
     "name": "stdout",
     "output_type": "stream",
     "text": [
      "True Cluster SSE : {3: 2.490928011284716, 4: 13.232662359786652, 5: 127.39168759959406, 6: 123.57078524465169, 7: 37.27221633035359, 8: 3.5785409047412915}\n",
      "True Overall SSE : 307.53682045041205\n",
      "True SSB : 29.482622058316192\n"
     ]
    }
   ],
   "source": [
    "true_sse = clusterSSE(x,true_clusters,true_centers)\n",
    "print(\"True Cluster SSE : \" + str(true_sse))\n",
    "true_overall_sse = overallSSE(true_sse)\n",
    "print(\"True Overall SSE : \" + str(true_overall_sse))\n",
    "true_ssb = SSB(x,true_clusters,true_centers)\n",
    "print(\"True SSB : \" + str(true_ssb))"
   ]
  },
  {
   "cell_type": "code",
   "execution_count": 330,
   "metadata": {},
   "outputs": [
    {
     "name": "stdout",
     "output_type": "stream",
     "text": [
      "Enter K : 4\n",
      "Iteration : 5\n",
      "Cluster SSE : {1: 97.7755132538427, 2: 13.498379102077333, 3: 3.8736245866563417, 4: 85.88880883118027, 5: 35.63871888255108}\n",
      "Overall SSE : 236.67504465630773\n",
      "SSB : 100.34439785242083\n"
     ]
    }
   ],
   "source": [
    "x = df_tdh.values.tolist()\n",
    "first_center = rd.sample(x,1)[0]\n",
    "k = int(input(\"Enter K : \"))\n",
    "t = []\n",
    "t1 = []\n",
    "k_clusters =  {}\n",
    "k_centers = {}\n",
    "best_clusters = {}\n",
    "best_centers = {}\n",
    "best_sse = 300\n",
    "best_cluster_sse = {}\n",
    "best_ssb = 0\n",
    "columns = [\"Cluster\",\"Overall SSE\",\"SSB\"]\n",
    "#df_table = pd.DataFrame({\"Cluster\" : [], \"Overall SSE\" : [], \"Overall SSB\" : []})\n",
    "df_table = pd.DataFrame()\n",
    "n = 6\n",
    "n1 = 5\n",
    "for i in range(n1,n):\n",
    "    print(\"Iteration : \" + str(i))\n",
    "    (k_clusters,k_centers) = kMeans(x,i,True,a)\n",
    "    #print(k_centers)\n",
    "    sse = clusterSSE(x,k_clusters,k_centers)\n",
    "    print(\"Cluster SSE : \" + str(sse))\n",
    "    overall_sse = overallSSE(sse)\n",
    "    print(\"Overall SSE : \" + str(overall_sse))\n",
    "    t.append(overall_sse)\n",
    "    ssb = SSB(x,k_clusters,k_centers)\n",
    "    print(\"SSB : \" + str(ssb))\n",
    "    t1.append(ssb)\n",
    "    if(i == 5 ):\n",
    "        best_sse = overall_sse\n",
    "        best_clusters = k_clusters\n",
    "        best_centers = k_centers\n",
    "        best_ssb = ssb\n",
    "        best_cluster_sse = sse\n",
    "    df = pd.DataFrame({\"Cluster\" : \"Assigned Cluster\", \"Overall SSE\" : [overall_sse],\"SSB\" : [ssb]})\n",
    "    df_table = df_table.append(df) \n",
    "    df = pd.DataFrame({\"Cluster\" : \"True Cluster\", \"Overall SSE\" : [true_overall_sse],\"SSB\" : [true_ssb]})\n",
    "    df_table = df_table.append(df)\n",
    "    df_table = df_table.set_index('Cluster')\n",
    "df_cross = crossTabMatrix(k_clusters,true_clusters)\n",
    "df_out = getOutFrame(k_clusters)\n",
    "df_out.to_csv(\"output.csv\")"
   ]
  },
  {
   "cell_type": "code",
   "execution_count": 331,
   "metadata": {},
   "outputs": [
    {
     "data": {
      "text/html": [
       "<div>\n",
       "<style>\n",
       "    .dataframe thead tr:only-child th {\n",
       "        text-align: right;\n",
       "    }\n",
       "\n",
       "    .dataframe thead th {\n",
       "        text-align: left;\n",
       "    }\n",
       "\n",
       "    .dataframe tbody tr th {\n",
       "        vertical-align: top;\n",
       "    }\n",
       "</style>\n",
       "<table border=\"1\" class=\"dataframe\">\n",
       "  <thead>\n",
       "    <tr style=\"text-align: right;\">\n",
       "      <th></th>\n",
       "      <th>3</th>\n",
       "      <th>4</th>\n",
       "      <th>5</th>\n",
       "      <th>6</th>\n",
       "      <th>7</th>\n",
       "      <th>8</th>\n",
       "    </tr>\n",
       "    <tr>\n",
       "      <th>Cluster</th>\n",
       "      <th></th>\n",
       "      <th></th>\n",
       "      <th></th>\n",
       "      <th></th>\n",
       "      <th></th>\n",
       "      <th></th>\n",
       "    </tr>\n",
       "  </thead>\n",
       "  <tbody>\n",
       "    <tr>\n",
       "      <th>1</th>\n",
       "      <td>3</td>\n",
       "      <td>19</td>\n",
       "      <td>380</td>\n",
       "      <td>214</td>\n",
       "      <td>24</td>\n",
       "      <td>1</td>\n",
       "    </tr>\n",
       "    <tr>\n",
       "      <th>2</th>\n",
       "      <td>0</td>\n",
       "      <td>3</td>\n",
       "      <td>50</td>\n",
       "      <td>56</td>\n",
       "      <td>14</td>\n",
       "      <td>0</td>\n",
       "    </tr>\n",
       "    <tr>\n",
       "      <th>3</th>\n",
       "      <td>0</td>\n",
       "      <td>0</td>\n",
       "      <td>5</td>\n",
       "      <td>5</td>\n",
       "      <td>2</td>\n",
       "      <td>0</td>\n",
       "    </tr>\n",
       "    <tr>\n",
       "      <th>4</th>\n",
       "      <td>1</td>\n",
       "      <td>4</td>\n",
       "      <td>72</td>\n",
       "      <td>209</td>\n",
       "      <td>135</td>\n",
       "      <td>17</td>\n",
       "    </tr>\n",
       "    <tr>\n",
       "      <th>5</th>\n",
       "      <td>6</td>\n",
       "      <td>27</td>\n",
       "      <td>174</td>\n",
       "      <td>154</td>\n",
       "      <td>24</td>\n",
       "      <td>0</td>\n",
       "    </tr>\n",
       "  </tbody>\n",
       "</table>\n",
       "</div>"
      ],
      "text/plain": [
       "         3   4    5    6    7   8\n",
       "Cluster                          \n",
       "1        3  19  380  214   24   1\n",
       "2        0   3   50   56   14   0\n",
       "3        0   0    5    5    2   0\n",
       "4        1   4   72  209  135  17\n",
       "5        6  27  174  154   24   0"
      ]
     },
     "execution_count": 331,
     "metadata": {},
     "output_type": "execute_result"
    }
   ],
   "source": [
    "df_cross.head()"
   ]
  },
  {
   "cell_type": "code",
   "execution_count": 332,
   "metadata": {},
   "outputs": [
    {
     "data": {
      "text/html": [
       "<div>\n",
       "<style>\n",
       "    .dataframe thead tr:only-child th {\n",
       "        text-align: right;\n",
       "    }\n",
       "\n",
       "    .dataframe thead th {\n",
       "        text-align: left;\n",
       "    }\n",
       "\n",
       "    .dataframe tbody tr th {\n",
       "        vertical-align: top;\n",
       "    }\n",
       "</style>\n",
       "<table border=\"1\" class=\"dataframe\">\n",
       "  <thead>\n",
       "    <tr style=\"text-align: right;\">\n",
       "      <th></th>\n",
       "      <th>Overall SSE</th>\n",
       "      <th>SSB</th>\n",
       "    </tr>\n",
       "    <tr>\n",
       "      <th>Cluster</th>\n",
       "      <th></th>\n",
       "      <th></th>\n",
       "    </tr>\n",
       "  </thead>\n",
       "  <tbody>\n",
       "    <tr>\n",
       "      <th>Assigned Cluster</th>\n",
       "      <td>236.675045</td>\n",
       "      <td>100.344398</td>\n",
       "    </tr>\n",
       "    <tr>\n",
       "      <th>True Cluster</th>\n",
       "      <td>307.536820</td>\n",
       "      <td>29.482622</td>\n",
       "    </tr>\n",
       "  </tbody>\n",
       "</table>\n",
       "</div>"
      ],
      "text/plain": [
       "                  Overall SSE         SSB\n",
       "Cluster                                  \n",
       "Assigned Cluster   236.675045  100.344398\n",
       "True Cluster       307.536820   29.482622"
      ]
     },
     "execution_count": 332,
     "metadata": {},
     "output_type": "execute_result"
    }
   ],
   "source": [
    "df_table.head()"
   ]
  },
  {
   "cell_type": "code",
   "execution_count": 333,
   "metadata": {},
   "outputs": [
    {
     "name": "stdout",
     "output_type": "stream",
     "text": [
      "Overall SSE's : [236.67504465630773]\n",
      "Best SSE : 236.675044656\n",
      "Average SSE : 236.675044656\n",
      "Worst SSE : 236.675044656\n",
      "Overall SSB's : [100.34439785242083]\n",
      "Best SSB : 100.344397852\n",
      "Average SSB : 100.344397852\n",
      "Worst SSB : 100.344397852\n"
     ]
    }
   ],
   "source": [
    "best_overall_sse = np.min(t)\n",
    "print(\"Overall SSE's : \" + str(t))\n",
    "print(\"Best SSE : \" + str(best_overall_sse))\n",
    "print(\"Average SSE : \" + str(np.average(t)))\n",
    "print(\"Worst SSE : \" + str(np.max(t)))\n",
    "best_overall_ssb = np.min(t1)\n",
    "print(\"Overall SSB's : \" + str(t1))\n",
    "print(\"Best SSB : \" + str(best_overall_ssb))\n",
    "print(\"Average SSB : \" + str(np.average(t1)))\n",
    "print(\"Worst SSB : \" + str(np.max(t1)))"
   ]
  },
  {
   "cell_type": "code",
   "execution_count": 334,
   "metadata": {},
   "outputs": [
    {
     "data": {
      "text/html": [
       "<div>\n",
       "<style>\n",
       "    .dataframe thead tr:only-child th {\n",
       "        text-align: right;\n",
       "    }\n",
       "\n",
       "    .dataframe thead th {\n",
       "        text-align: left;\n",
       "    }\n",
       "\n",
       "    .dataframe tbody tr th {\n",
       "        vertical-align: top;\n",
       "    }\n",
       "</style>\n",
       "<table border=\"1\" class=\"dataframe\">\n",
       "  <thead>\n",
       "    <tr style=\"text-align: right;\">\n",
       "      <th></th>\n",
       "      <th>Cluster</th>\n",
       "      <th>Row ID</th>\n",
       "    </tr>\n",
       "  </thead>\n",
       "  <tbody>\n",
       "    <tr>\n",
       "      <th>0</th>\n",
       "      <td>5</td>\n",
       "      <td>0</td>\n",
       "    </tr>\n",
       "    <tr>\n",
       "      <th>0</th>\n",
       "      <td>1</td>\n",
       "      <td>1</td>\n",
       "    </tr>\n",
       "    <tr>\n",
       "      <th>1</th>\n",
       "      <td>1</td>\n",
       "      <td>2</td>\n",
       "    </tr>\n",
       "    <tr>\n",
       "      <th>2</th>\n",
       "      <td>1</td>\n",
       "      <td>3</td>\n",
       "    </tr>\n",
       "    <tr>\n",
       "      <th>1</th>\n",
       "      <td>5</td>\n",
       "      <td>4</td>\n",
       "    </tr>\n",
       "  </tbody>\n",
       "</table>\n",
       "</div>"
      ],
      "text/plain": [
       "   Cluster  Row ID\n",
       "0        5       0\n",
       "0        1       1\n",
       "1        1       2\n",
       "2        1       3\n",
       "1        5       4"
      ]
     },
     "execution_count": 334,
     "metadata": {},
     "output_type": "execute_result"
    }
   ],
   "source": [
    "#plt.subplot(1,1,1)\n",
    "#plotClusters(x,k_clusters,\"Clusters with K = \" + str(k),\"x1\",\"x2\")\n",
    "#plt.subplot(1,1,2)\n",
    "#plotClusters(x,true_clusters,\"True Clusters with K = \" + str(len(true_centers)),\"x1\",\"x2\")\n",
    "df_out.head()"
   ]
  },
  {
   "cell_type": "code",
   "execution_count": 335,
   "metadata": {},
   "outputs": [],
   "source": [
    "def plot(y,k_list,ylabel,title):\n",
    "    my_xticks = k_list\n",
    "    s = list(range(0,len(k_list)))\n",
    "    plt.xticks(s, my_xticks)\n",
    "    print(s,y)\n",
    "    plt.plot(s,y)\n",
    "    plt.xlabel(\"k\")\n",
    "    plt.ylabel(ylabel)\n",
    "    plt.title(title)\n",
    "    plt.show()"
   ]
  },
  {
   "cell_type": "code",
   "execution_count": 336,
   "metadata": {},
   "outputs": [
    {
     "name": "stdout",
     "output_type": "stream",
     "text": [
      "236.67504465630773\n",
      "{1: 97.7755132538427, 2: 13.498379102077333, 3: 3.8736245866563417, 4: 85.88880883118027, 5: 35.63871888255108}\n",
      "100.34439785242083\n"
     ]
    }
   ],
   "source": [
    "print(best_sse)\n",
    "print(best_cluster_sse)\n",
    "print(best_ssb)"
   ]
  },
  {
   "cell_type": "code",
   "execution_count": 337,
   "metadata": {},
   "outputs": [
    {
     "name": "stdout",
     "output_type": "stream",
     "text": [
      "[0] [236.67504465630773]\n"
     ]
    },
    {
     "data": {
      "image/png": "[encoded data removed]",
      "text/plain": [
       "<matplotlib.figure.Figure at 0x7ff9aec6e710>"
      ]
     },
     "metadata": {},
     "output_type": "display_data"
    },
    {
     "name": "stdout",
     "output_type": "stream",
     "text": [
      "[0] [100.34439785242083]\n"
     ]
    },
    {
     "data": {
      "image/png": "[encoded data removed]",
      "text/plain": [
       "<matplotlib.figure.Figure at 0x7ff9b13f6668>"
      ]
     },
     "metadata": {},
     "output_type": "display_data"
    }
   ],
   "source": [
    "plot(t,list(range(n1,n)),\"Overall SSE\",\"Overall SSE vs K\")\n",
    "plot(t1,list(range(n1,n)),\"SSB\",\"SSB vs K\")"
   ]
  },
  {
   "cell_type": "code",
   "execution_count": 338,
   "metadata": {},
   "outputs": [
    {
     "name": "stdout",
     "output_type": "stream",
     "text": [
      "         3   4    5    6    7   8\n",
      "Cluster                          \n",
      "1        3  19  380  214   24   1\n",
      "2        0   3   50   56   14   0\n",
      "3        0   0    5    5    2   0\n",
      "4        1   4   72  209  135  17\n",
      "5        6  27  174  154   24   0\n"
     ]
    }
   ],
   "source": [
    "df_cross = crossTabMatrix(best_clusters,true_clusters)\n",
    "print(df_cross)"
   ]
  },
  {
   "cell_type": "code",
   "execution_count": 339,
   "metadata": {},
   "outputs": [
    {
     "data": {
      "text/plain": [
       "[0.17699115044247787,\n",
       " 0.84,\n",
       " 0.03,\n",
       " 0.0958904109589041,\n",
       " 0.059000000000000004,\n",
       " 0.43661971830985913,\n",
       " 0.14840989399293286,\n",
       " 0.9952,\n",
       " 0.6141732283464567,\n",
       " 0.56,\n",
       " 0.6000000000000001]"
      ]
     },
     "execution_count": 339,
     "metadata": {},
     "output_type": "execute_result"
    }
   ],
   "source": [
    "first_center"
   ]
  },
  {
   "cell_type": "code",
   "execution_count": null,
   "metadata": {},
   "outputs": [],
   "source": []
  },
  {
   "cell_type": "code",
   "execution_count": null,
   "metadata": {
    "collapsed": true
   },
   "outputs": [],
   "source": []
  },
  {
   "cell_type": "code",
   "execution_count": null,
   "metadata": {
    "collapsed": true
   },
   "outputs": [],
   "source": []
  }
 ],
 "metadata": {
  "kernelspec": {
   "display_name": "Python 3",
   "language": "python",
   "name": "python3"
  },
  "language_info": {
   "codemirror_mode": {
    "name": "ipython",
    "version": 3
   },
   "file_extension": ".py",
   "mimetype": "text/x-python",
   "name": "python",
   "nbconvert_exporter": "python",
   "pygments_lexer": "ipython3",
   "version": "3.4.3"
  }
 },
 "nbformat": 4,
 "nbformat_minor": 2
}
