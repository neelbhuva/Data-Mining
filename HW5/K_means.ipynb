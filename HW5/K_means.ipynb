{
 "cells": [
  {
   "cell_type": "markdown",
   "metadata": {},
   "source": [
    "###  K-means with Euclidena distance as proximity measure"
   ]
  },
  {
   "cell_type": "code",
   "execution_count": 52,
   "metadata": {
    "collapsed": true
   },
   "outputs": [],
   "source": [
    "import pandas as pd\n",
    "import numpy as np\n",
    "import math\n",
    "import matplotlib.pyplot as plt\n",
    "import random as rd"
   ]
  },
  {
   "cell_type": "code",
   "execution_count": 53,
   "metadata": {
    "collapsed": true
   },
   "outputs": [],
   "source": [
    "def getEucledian(a,b):\n",
    "    #print(a,b)\n",
    "    total = 0;\n",
    "    for i in range(0,len(a)):\n",
    "        diff = b[i] - a[i];\n",
    "        total += diff * diff;\n",
    "    return np.sqrt(total)"
   ]
  },
  {
   "cell_type": "code",
   "execution_count": 54,
   "metadata": {
    "collapsed": true
   },
   "outputs": [],
   "source": [
    "def clusterSSE(x,k_clusters,k_centers):\n",
    "    total = {} \n",
    "    for key,value in k_clusters.items():\n",
    "        s = 0\n",
    "        center = k_centers[key]\n",
    "        for i in value:\n",
    "            s = s + math.pow(getEucledian(x[i],center),2)\n",
    "        total[key] = s\n",
    "    return total       "
   ]
  },
  {
   "cell_type": "code",
   "execution_count": 55,
   "metadata": {
    "collapsed": true
   },
   "outputs": [],
   "source": [
    "def overallSSE(cluster_sse):\n",
    "    s = 0\n",
    "    for key,value in cluster_sse.items():\n",
    "        s = s + cluster_sse[key]\n",
    "    return s"
   ]
  },
  {
   "cell_type": "code",
   "execution_count": 56,
   "metadata": {
    "collapsed": true
   },
   "outputs": [],
   "source": [
    "def SSB(x,k_clusters,k_centers):\n",
    "    total = {}\n",
    "    keys = list(k_centers.keys())\n",
    "    for j in keys:\n",
    "        s =  0\n",
    "        for i in keys:\n",
    "            s = s + math.pow(getEucledian(k_centers[i],k_centers[j]),2)\n",
    "        total[j] = s\n",
    "    return total"
   ]
  },
  {
   "cell_type": "code",
   "execution_count": 57,
   "metadata": {
    "collapsed": true
   },
   "outputs": [],
   "source": [
    "def getMeanUsingIndex(x,indices):\n",
    "    total = []\n",
    "    for i in x[0]:\n",
    "        total.append(0)\n",
    "    #print(total)\n",
    "    for i in indices:\n",
    "        for j in range(0,len(total)):\n",
    "            total[j] = total[j] + x[i][j]\n",
    "    total = [f/len(indices) for f in total]\n",
    "    return (total)"
   ]
  },
  {
   "cell_type": "code",
   "execution_count": 58,
   "metadata": {
    "collapsed": true
   },
   "outputs": [],
   "source": [
    "def anyCenterChanged(k_centers,new_centers):\n",
    "    for i in range(0,len(k_centers)):\n",
    "        if(k_centers[i] != new_centers[i]):\n",
    "            return True\n",
    "    return False"
   ]
  },
  {
   "cell_type": "code",
   "execution_count": 59,
   "metadata": {
    "collapsed": true
   },
   "outputs": [],
   "source": [
    "def assignInputToClusters(x,k_centers):\n",
    "    #keep track of clusters\n",
    "    k_clusters = {}\n",
    "    # print(\"Centers : \")\n",
    "    # print(k_centers)\n",
    "    dissimilarity = []\n",
    "    #assign all input patterns to clusters\n",
    "    for key,i in k_centers.items():\n",
    "        for j in x:\n",
    "            dissimilarity.append(getEucledian(i,j)) #eucledian similarity\n",
    "\n",
    "    dissimilarity = np.reshape(dissimilarity,(len(k_centers),len(x)))\n",
    "    df_dissim = pd.DataFrame(data=dissimilarity)\n",
    "    #print(df_dissim)\n",
    "    for i in range(0,df_dissim.shape[0]):\n",
    "        k_clusters[i] = [];\n",
    "    for i in df_dissim.columns:\n",
    "        #print(df_dissim.nsmallest(1,i).index[0],end = \" \")\n",
    "        shortest_dist_index = df_dissim.nsmallest(1,i).index[0]\n",
    "        k_clusters[shortest_dist_index].append(i)\n",
    "    #print(k_clusters)\n",
    "    new_centers = {}\n",
    "    for key,value in k_clusters.items():\n",
    "        #print(key,value)\n",
    "        new_centers[key]  = getMeanUsingIndex(x,value)\n",
    "#     print(\"New Centers : \")\n",
    "#     print(new_centers)\n",
    "    if(anyCenterChanged(k_centers,new_centers)):\n",
    "        assignInputToClusters(x,new_centers)\n",
    "    return (new_centers,k_clusters)"
   ]
  },
  {
   "cell_type": "code",
   "execution_count": 60,
   "metadata": {
    "collapsed": true
   },
   "outputs": [],
   "source": [
    "def kMeans(x,K):\n",
    "    #select K number of input patterns as cluster centers randomly\n",
    "    centers = rd.sample(x,K)\n",
    "    k_centers = {}\n",
    "    for i in range(0,len(centers)):\n",
    "        k_centers[i] = centers[i]\n",
    "\n",
    "    (k_centers,k_clusters) = assignInputToClusters(x,k_centers)\n",
    "    return (k_clusters,k_centers)\n"
   ]
  },
  {
   "cell_type": "code",
   "execution_count": 61,
   "metadata": {
    "collapsed": true
   },
   "outputs": [],
   "source": [
    "def getOutFrame(k_clusters):\n",
    "    columns = [\"Row ID\",\"Cluster\"]\n",
    "    df_out = pd.DataFrame() \n",
    "    for key,values in k_clusters.items():\n",
    "        t = []\n",
    "        for i in values:\n",
    "            t.append(key)\n",
    "        df = pd.DataFrame({\"Row ID\" : values, \"Cluster\" : t})\n",
    "        df_out = df_out.append(df)\n",
    "        df_out = df_out.sort_values(\"Row ID\",ascending=True)\n",
    "#     indices = df_out[\"Row ID\"]\n",
    "#     indices = [x+1 for x in indices]\n",
    "#     df_out[\"Row ID\"] = indices\n",
    "    return df_out"
   ]
  },
  {
   "cell_type": "code",
   "execution_count": 62,
   "metadata": {},
   "outputs": [],
   "source": [
    "def plotClusters(x,k_clusters,title,xlabel,ylabel):\n",
    "    fig1 = plt.figure(1)\n",
    "    for key,value in k_clusters.items():\n",
    "        c = [x[index] for index in value]\n",
    "        #print(c)\n",
    "        plt.scatter(*zip(*c),label=\"Cluster \" + str(key))\n",
    "    plt.xlabel(xlabel)\n",
    "    plt.ylabel(ylabel)\n",
    "    plt.title(title)\n",
    "    plt.legend()\n",
    "    plt.show()"
   ]
  },
  {
   "cell_type": "code",
   "execution_count": 63,
   "metadata": {
    "collapsed": true
   },
   "outputs": [],
   "source": [
    "def getTrueClusters(df):\n",
    "    k_clusters = {}\n",
    "    clusters = set(df[\"cluster\"])\n",
    "    #print(clusters)\n",
    "    for i in clusters:\n",
    "        a = df.loc[df['cluster'] == i].index\n",
    "        #print(a)\n",
    "        k_clusters[i] = list(a)\n",
    "    #print(k_clusters)\n",
    "    return k_clusters"
   ]
  },
  {
   "cell_type": "code",
   "execution_count": 64,
   "metadata": {},
   "outputs": [],
   "source": [
    "df_wine = pd.read_csv(\"wine.csv\")\n",
    "df_wine = df_wine.drop([\"ID\",\"quality\",\"class\"],axis=1)\n",
    "df_tdh = pd.read_csv(\"TwoDimHard.csv\")\n",
    "true_clusters = getTrueClusters(df_tdh)\n",
    "df_tdh = df_tdh.drop([\"ID\",\"cluster\"],axis=1)\n",
    "#df_tdh.head()"
   ]
  },
  {
   "cell_type": "code",
   "execution_count": 65,
   "metadata": {},
   "outputs": [
    {
     "name": "stdout",
     "output_type": "stream",
     "text": [
      "Enter K : 4\n"
     ]
    }
   ],
   "source": [
    "x = df_tdh.values.tolist()\n",
    "k = int(input(\"Enter K : \"))\n",
    "(k_clusters,k_centers) = kMeans(x,k)\n",
    "#print(k_centers)\n",
    "df_out = getOutFrame(k_clusters)\n",
    "df_out.to_csv(\"output.csv\")"
   ]
  },
  {
   "cell_type": "code",
   "execution_count": 66,
   "metadata": {},
   "outputs": [
    {
     "name": "stdout",
     "output_type": "stream",
     "text": [
      "Cluster SSE : {0: 1.1433815821472857, 1: 0.9384972144646779, 2: 0.5111984373231221, 3: 5.204614751869991}\n",
      "Overall SSE : 7.797691985805076\n",
      "SSB : {0: 0.30859637207448265, 1: 0.6168809699746436, 2: 0.4991911588727093, 3: 0.4354082007895831}\n"
     ]
    }
   ],
   "source": [
    "sse = clusterSSE(x,k_clusters,k_centers)\n",
    "print(\"Cluster SSE : \" + str(sse))\n",
    "overall_sse = overallSSE(sse)\n",
    "print(\"Overall SSE : \" + str(overall_sse))\n",
    "ssb = SSB(x,k_clusters,k_centers)\n",
    "print(\"SSB : \" + str(ssb))"
   ]
  },
  {
   "cell_type": "code",
   "execution_count": 67,
   "metadata": {},
   "outputs": [
    {
     "data": {
      "image/png": "[encoded data removed]",
      "text/plain": [
       "<matplotlib.figure.Figure at 0x7fbb01189be0>"
      ]
     },
     "metadata": {},
     "output_type": "display_data"
    },
    {
     "data": {
      "image/png": "[encoded data removed]",
      "text/plain": [
       "<matplotlib.figure.Figure at 0x7fbb01189fd0>"
      ]
     },
     "metadata": {},
     "output_type": "display_data"
    },
    {
     "name": "stdout",
     "output_type": "stream",
     "text": [
      "   Cluster  Row ID\n",
      "0        1       0\n",
      "1        1       1\n",
      "2        1       2\n",
      "3        1       3\n",
      "4        1       4\n"
     ]
    }
   ],
   "source": [
    "plotClusters(x,k_clusters,\"Clusters\",\"x1\",\"x2\")\n",
    "plotClusters(x,true_clusters,\"True Clusters\",\"x1\",\"x2\")\n",
    "print(df_out.head())"
   ]
  },
  {
   "cell_type": "code",
   "execution_count": null,
   "metadata": {
    "collapsed": true
   },
   "outputs": [],
   "source": []
  }
 ],
 "metadata": {
  "kernelspec": {
   "display_name": "Python 3",
   "language": "python",
   "name": "python3"
  },
  "language_info": {
   "codemirror_mode": {
    "name": "ipython",
    "version": 3
   },
   "file_extension": ".py",
   "mimetype": "text/x-python",
   "name": "python",
   "nbconvert_exporter": "python",
   "pygments_lexer": "ipython3",
   "version": "3.4.3"
  }
 },
 "nbformat": 4,
 "nbformat_minor": 2
}
