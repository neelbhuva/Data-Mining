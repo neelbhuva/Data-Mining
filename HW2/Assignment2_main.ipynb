{
 "cells": [
  {
   "cell_type": "markdown",
   "metadata": {
    "collapsed": true
   },
   "source": [
    "\n",
    "\n"
   ]
  },
  {
   "cell_type": "markdown",
   "metadata": {
    "collapsed": true
   },
   "source": [
    "# Assignment - 1"
   ]
  },
  {
   "cell_type": "code",
   "execution_count": 33,
   "metadata": {
    "collapsed": true
   },
   "outputs": [],
   "source": [
    "import pandas as pd\n",
    "import numpy as np\n",
    "%matplotlib inline\n",
    "import matplotlib.pyplot as plt\n",
    "import seaborn as sns"
   ]
  },
  {
   "cell_type": "code",
   "execution_count": 34,
   "metadata": {
    "collapsed": true
   },
   "outputs": [],
   "source": [
    "def replace_missing(df):\n",
    "    df[\"occupation\"].replace(to_replace =\"\\?\" , value = \"Job_X\", inplace = True, regex = True)\n",
    "    df[\"workclass\"].replace(to_replace=\"\\?\", value = \"X\", inplace = True, regex=True)\n",
    "    df[\"native_country\"].replace(to_replace = \"\\?\", value = \"United-States\", inplace = True, regex = True)\n",
    "    return df"
   ]
  },
  {
   "cell_type": "code",
   "execution_count": 35,
   "metadata": {
    "collapsed": true
   },
   "outputs": [],
   "source": [
    "def normalize(df):\n",
    "    df[\"age\"] = df[[\"age\"]].apply(lambda x : (x - np.min(x))/(np.max(x) - np.min(x)))\n",
    "    df[\"fnlwgt\"] = df[[\"fnlwgt\"]].apply(lambda x : (x - np.min(x)) / (np.max(x) - np.min(x)))\n",
    "    df[\"hour_per_week\"] = df[[\"hour_per_week\"]].apply(lambda x : (x - np.min(x)) / (np.max(x)-np.min(x)))\n",
    "    return df"
   ]
  },
  {
   "cell_type": "code",
   "execution_count": 36,
   "metadata": {
    "collapsed": true
   },
   "outputs": [],
   "source": [
    "def mdist(a,b,df_euc):                                      #mdist is the function to calculate euclidian distance with L2 norm\n",
    "    total = 0;\n",
    "    for i in range(0,len(df_euc.keys())):\n",
    "        diff = b[i] - a[i];\n",
    "        total += diff * diff;\n",
    "    return np.sqrt(total)"
   ]
  },
  {
   "cell_type": "code",
   "execution_count": 37,
   "metadata": {
    "collapsed": true
   },
   "outputs": [],
   "source": [
    "def jaccardian_counts(vector_1,vector_2):\n",
    "    M11 = 0\n",
    "    M10 = 0\n",
    "    M01 = 0\n",
    "    for i in range(0,len(vector_1)):\n",
    "        if(vector_1[i] == 1 and vector_2[i] == 1):\n",
    "            M11 = M11 + 1\n",
    "        if(vector_1[i] == 1 and vector_2[i] == 0):\n",
    "            M10 = M10 + 1\n",
    "        if(vector_1[i] == 0 and vector_2[i] == 1):\n",
    "            M01 = M01 + 1\n",
    "    return M11,M10,M01\n",
    "\n",
    "def jaccardian_sim(labels,df_train,df_test):\n",
    "    delta_k = []\n",
    "    jacc_sim = []\n",
    "    length = num_rows\n",
    "    for j in range(0,length):\n",
    "        for k in range(0,num_test_rows):\n",
    "            vector_1 = []\n",
    "            vector_2 = []\n",
    "            for i in range(0,len(labels)):\n",
    "                vector_1.append(df_train[labels[i]][j])\n",
    "                vector_2.append(df_test[labels[i]][k])\n",
    "            M11,M10,M01 = jaccardian_counts(vector_1,vector_2)\n",
    "            delta_k.append(get_delta(vector_1,vector_2))\n",
    "            if(M11+M10+M01 == 0):\n",
    "                jacc_sim.append(0)\n",
    "                continue\n",
    "            jacc_sim.append(M11/(M10+M01+M11))\n",
    "            \n",
    "    ar = np.array(jacc_sim)\n",
    "    shape = (length,num_test_rows)\n",
    "    ar_reshape = ar.reshape(shape,)\n",
    "    df_sim = pd.DataFrame(data = ar_reshape)\n",
    "    \n",
    "    ar = np.array(delta_k)\n",
    "    shape = (length,num_test_rows)\n",
    "    ar_reshape = ar.reshape(shape,)\n",
    "    df_delta_k = pd.DataFrame(data = ar_reshape)\n",
    "    return(df_sim,df_delta_k)\n",
    "\n",
    "def get_norm(x):\n",
    "    square_sum = 0\n",
    "    for i in x:\n",
    "        square_sum = square_sum + i * i\n",
    "    return math.sqrt(square_sum)\n",
    "\n",
    "def dot(v1, v2):\n",
    "    sum_prod = 0\n",
    "    for i in range(0,len(v1)):\n",
    "        sum_prod = sum_prod + v1[i] * v2[i]\n",
    "    return sum_prod\n",
    "\n",
    "def cos_sim(a,b):\n",
    "    dot_prod = dot(a,b)\n",
    "    #print(dot_prod)\n",
    "    a_norm = get_norm(a)\n",
    "    b_norm = get_norm(b)\n",
    "    #print(a_norm)\n",
    "    if(a_norm == 0 or b_norm == 0):\n",
    "        return 0\n",
    "    return (dot_prod/(a_norm * b_norm))\n",
    "\n",
    "\n",
    "def cosine_sim(labels):\n",
    "    delta_k = []\n",
    "    cosine_sim1 = []\n",
    "    length = num_rows\n",
    "    for j in range(0,length):\n",
    "        for k in range(0,length):\n",
    "            vector_1 = []\n",
    "            vector_2 = []\n",
    "            for i in range(0,len(labels)):\n",
    "                vector_1.append(df[labels[i]][j])\n",
    "                vector_2.append(df[labels[i]][k])\n",
    "            cosine_sim1.append(cos_sim(vector_1,vector_2))\n",
    "            delta_k.append(get_delta(vector_1,vector_2))\n",
    "            \n",
    "    ar = np.array(cosine_sim1)\n",
    "    shape = (length,length)\n",
    "    ar_reshape = ar.reshape(shape,)\n",
    "    df_sim = pd.DataFrame(data = ar_reshape)\n",
    "    \n",
    "    ar = np.array(delta_k)\n",
    "    shape = (length,length)\n",
    "    ar_reshape = ar.reshape(shape,)\n",
    "    df_delta_k = pd.DataFrame(data = ar_reshape)\n",
    "    return(df_sim,df_delta_k)"
   ]
  },
  {
   "cell_type": "markdown",
   "metadata": {
    "collapsed": true
   },
   "source": [
    "### Delta:\n",
    "* Given two vectors this function returns 0 if both vectors are zero vectors. Used for sparse data. Delta refers to variable delta in the general approach formula to calculate similarities."
   ]
  },
  {
   "cell_type": "code",
   "execution_count": 38,
   "metadata": {
    "collapsed": true
   },
   "outputs": [],
   "source": [
    "def get_delta(vector_1,vector_2):\n",
    "    for i in range(0,len(vector_1)):\n",
    "        if(vector_1[i] == 1 or vector_2[i] == 1):\n",
    "            return 1\n",
    "    return 0"
   ]
  },
  {
   "cell_type": "markdown",
   "metadata": {},
   "source": [
    "### Similarity function for Nominal and Ordinal:"
   ]
  },
  {
   "cell_type": "code",
   "execution_count": 39,
   "metadata": {
    "collapsed": true
   },
   "outputs": [],
   "source": [
    "def nom_sim(dframe_train,dframe_test):\n",
    "    temp = []\n",
    "    for i in dframe_train:\n",
    "        for j in dframe_test:\n",
    "            if i == j:\n",
    "                a = 1\n",
    "                temp.append(a)\n",
    "            else:\n",
    "                a = 0\n",
    "                temp.append(a)        \n",
    "    ar = np.array(temp)\n",
    "    shape = (len(dframe_train), len(dframe_test))\n",
    "    ar_reshape = ar.reshape(shape,)\n",
    "    df_sim = pd.DataFrame(data = ar_reshape)\n",
    "    return(df_sim)\n",
    "\n",
    "\n",
    "def ord_sim(dframe_train,dframe_test):\n",
    "    temp = []\n",
    "    for i in dframe_train:\n",
    "        i = i - 1\n",
    "        for j in dframe_test:\n",
    "            j = j - 1\n",
    "            d = abs(i - j) / (len(dframe_train.unique()) - 1)\n",
    "            s = temp.append(1-d)\n",
    "    ar = np.array(temp)\n",
    "    shape = (len(dframe_train), len(dframe_test))\n",
    "    ar_reshape = ar.reshape(shape,)\n",
    "    df_sim = pd.DataFrame(data = ar_reshape)\n",
    "    return(df_sim)"
   ]
  },
  {
   "cell_type": "markdown",
   "metadata": {},
   "source": [
    "### Average function :\n",
    "\n",
    "* Combines similarities for different attribute types using general approach. delta_k here is the delta values of attributes for which jaccardian similarity is applied. \n",
    "* Loop iterates through all (except jaccardian) the data frames containing similarity values for which average similarity is to be calculated.\n",
    "* The same is done with jaccardian, but if the two vectors are 0 (delta value for that element in df is 0) then it is not included in the average, delta_count makes sure of this."
   ]
  },
  {
   "cell_type": "code",
   "execution_count": 40,
   "metadata": {
    "collapsed": true
   },
   "outputs": [],
   "source": [
    "def average_sim(df_list,delta_k):\n",
    "    #print(num_test_rows)\n",
    "    #print(delta_k)\n",
    "    average = []\n",
    "    length = num_rows\n",
    "    for i in range(0,num_test_rows):\n",
    "        for j in range(0,length):\n",
    "#             if(i > 286):\n",
    "#                 print(i,j,end=' ',flush=True)\n",
    "            avg = 0\n",
    "            delta_count = 0\n",
    "            for k in range(0,len(df_list)-1):\n",
    "                avg = avg + df_list[k][i][j]\n",
    "                delta_count = delta_count + 1\n",
    "            k = len(df_list)-1\n",
    "            if(k == len(df_list)-1):\n",
    "                avg = avg + df_list[k][i][j] * delta_k[i][j]\n",
    "                if(delta_k[i][j] == 1):\n",
    "                    delta_count = delta_count + 1\n",
    "            avg = avg / (delta_count)\n",
    "            average.append(avg)\n",
    "    \n",
    "    ar = np.array(average)\n",
    "    shape = (length, num_test_rows)\n",
    "    ar_reshape = ar.reshape(shape,)\n",
    "    df_avg = pd.DataFrame(data = ar_reshape)\n",
    "    return(df_avg)"
   ]
  },
  {
   "cell_type": "markdown",
   "metadata": {},
   "source": [
    "* Replacing the values that are other than 0 in capital_gain and capital_loss with 1.\n",
    "* This will help us to apply jaccard similarity."
   ]
  },
  {
   "cell_type": "code",
   "execution_count": 41,
   "metadata": {
    "collapsed": true
   },
   "outputs": [],
   "source": [
    "def replace_positive_with_one(dframes,df):\n",
    "    for i in range(0,len(dframes)):\n",
    "        for j in range(0,len(df[dframes[i]])):\n",
    "            if(df[dframes[i]][j] > 0):\n",
    "                df[dframes[i]][j] = 1\n",
    "    return df"
   ]
  },
  {
   "cell_type": "code",
   "execution_count": 42,
   "metadata": {
    "collapsed": true
   },
   "outputs": [],
   "source": [
    "def replace_diagnol(df_avg):\n",
    "    for i in range(0,num_rows):\n",
    "        df_avg[i][i] = 0\n",
    "    return df_avg"
   ]
  },
  {
   "cell_type": "code",
   "execution_count": 43,
   "metadata": {
    "collapsed": true
   },
   "outputs": [],
   "source": [
    "def get_manhattan(df_train,df_test):\n",
    "    temp = []\n",
    "    for i in df_train:\n",
    "        for j in df_test:\n",
    "            temp.append(abs(i-j))\n",
    "    ar = np.array(temp)\n",
    "    shape = (num_rows,num_test_rows)\n",
    "    ar_new = ar.reshape(shape,)                           \n",
    "    ar_new.shape\n",
    "    df_man = pd.DataFrame(data=ar_new)\n",
    "    return df_man"
   ]
  },
  {
   "cell_type": "code",
   "execution_count": 44,
   "metadata": {
    "collapsed": true
   },
   "outputs": [],
   "source": [
    "def get_similarities(df_train,df_test):\n",
    "    df_man_age = get_manhattan(df_train[\"age\"],df_test[\"age\"])\n",
    "    df_man_fnlwgt = get_manhattan(df_train[\"fnlwgt\"],df_test[\"fnlwgt\"])\n",
    "    df_man_hour_per_week = get_manhattan(df_train[\"hour_per_week\"],df_test[\"hour_per_week\"])\n",
    "    df_train_euc = df_train[[\"age\",\"fnlwgt\",\"hour_per_week\"]]\n",
    "    df_test_euc = df_test[[\"age\",\"fnlwgt\",\"hour_per_week\"]]\n",
    "#     con_similarity=[]                                     #similarity for continuous variables age,fnlwgt\n",
    "#     for i in df_train_euc.values:\n",
    "#         for j in df_test_euc.values:\n",
    "#             con_similarity.append(1/np.exp(mdist(i,j,df_train_euc)))   # Once we have the distance d, we can calculate the similarity by 1/e^d\n",
    "#     ar = np.array(con_similarity)                         # This is the final array which consists of 270,400 values\n",
    "#     shape = (num_rows,num_test_rows)\n",
    "#     ar_new = ar.reshape(shape,)                           # Arranging the 1d array to 520 x 520 matrix\n",
    "#     ar_new.shape\n",
    "#     global df_mdist\n",
    "#     df_mdist = pd.DataFrame(data=ar_new)                  # Loading these values into a dataframe\n",
    "    replace_dframes = [\"capital_loss\",\"capital_gain\"]\n",
    "    df_train = replace_positive_with_one(replace_dframes,df_train)\n",
    "    df_test = replace_positive_with_one(replace_dframes,df_test)\n",
    "    df_jac_sim,df_delta_k = jaccardian_sim(replace_dframes,df_train,df_test)\n",
    "    #print(df_jac_sim)\n",
    "    df_gain = nom_sim(df_train[\"capital_gain\"],df_test[\"capital_gain\"])\n",
    "    df_loss = nom_sim(df_train[\"capital_loss\"],df_test[\"capital_loss\"])\n",
    "    df_edu_sim = ord_sim(df_train[\"education_cat\"],df_test[\"education_cat\"])\n",
    "    df_occu_sim = nom_sim(df_train[\"occupation\"],df_test[\"occupation\"])\n",
    "    df_race_sim = nom_sim(df_train[\"race\"],df_test[\"race\"])\n",
    "    df_country_sim = nom_sim(df_train[\"native_country\"],df_test[\"native_country\"])\n",
    "    df_marital_sim = nom_sim(df_train[\"marital_status\"],df_test[\"marital_status\"])\n",
    "    df_gender_sim = nom_sim(df_train[\"gender\"],df_test[\"gender\"])\n",
    "    df_relationship_sim = nom_sim(df_train[\"relationship\"],df_test[\"relationship\"])\n",
    "    #print(df_mdist[288][56])\n",
    "    df_list = [df_man_age,df_man_fnlwgt,df_man_hour_per_week,df_edu_sim,df_occu_sim,df_race_sim,df_country_sim,df_marital_sim,df_gender_sim,df_relationship_sim,df_jac_sim]\n",
    "    #df_list = [df_man_age,df_man_fnlwgt,df_man_hour_per_week,df_gain,df_loss,df_edu_sim,df_occu_sim,df_race_sim,df_country_sim,df_marital_sim,df_gender_sim,df_relationship_sim]\n",
    "    df_avg = average_sim(df_list,df_delta_k)\n",
    "    #df_avg = replace_diagnol(df_avg)\n",
    "    return df_avg"
   ]
  },
  {
   "cell_type": "code",
   "execution_count": 45,
   "metadata": {
    "collapsed": true
   },
   "outputs": [],
   "source": [
    "#df_mdist[287][510]"
   ]
  },
  {
   "cell_type": "code",
   "execution_count": 67,
   "metadata": {
    "collapsed": true
   },
   "outputs": [],
   "source": [
    "def main(training_file,test_file):\n",
    "    global df_train\n",
    "    df_train = pd.read_csv(training_file) #Reading the income_tr csv file into a dataframe df\n",
    "    global df_test\n",
    "    df_test = pd.read_csv(test_file)\n",
    "    df_test.drop(\"ID\",axis = 1, inplace=True)\n",
    "    df_train.drop(\"ID\",axis = 1, inplace=True)\n",
    "#     df_combined = pd.concat([df_train,df_test],axis=0)\n",
    "#     df_train = df_combined\n",
    "#     df_test = df_combined\n",
    "#     print(df_test)\n",
    "    global num_rows\n",
    "    num_rows = len(df_train.index)\n",
    "    df_train = replace_missing(df_train)\n",
    "    df_train = normalize(df_train)\n",
    "    #df_avg = get_similarities(df_train)\n",
    "    global num_test_rows\n",
    "    num_test_rows = len(df_test.index)\n",
    "    \n",
    "    #df.describe() \n",
    "    df_test = replace_missing(df_test)\n",
    "    df_test = normalize(df_test)\n",
    "    df_avg = get_similarities(df_train,df_test)\n",
    "# #df_prox = k_similar(df_avg,k)\n",
    "# df_temp = pd.DataFrame({'Transaction ID':list(range(1,num_rows+1))})\n",
    "# df_prox = pd.concat([df_temp,df_prox],axis=1)\n",
    "# df_prox.to_csv(\"output.csv\")\n",
    "# df_prox.head()\n",
    "    return df_avg"
   ]
  },
  {
   "cell_type": "markdown",
   "metadata": {},
   "source": [
    "### Training and test files\n",
    "Call the main function with training and test files."
   ]
  },
  {
   "cell_type": "code",
   "execution_count": 47,
   "metadata": {},
   "outputs": [
    {
     "name": "stderr",
     "output_type": "stream",
     "text": [
      "/usr/local/lib/python3.4/dist-packages/ipykernel_launcher.py:5: SettingWithCopyWarning: \n",
      "A value is trying to be set on a copy of a slice from a DataFrame\n",
      "\n",
      "See the caveats in the documentation: http://pandas.pydata.org/pandas-docs/stable/indexing.html#indexing-view-versus-copy\n",
      "  \"\"\"\n"
     ]
    },
    {
     "data": {
      "text/html": [
       "<div>\n",
       "<style>\n",
       "    .dataframe thead tr:only-child th {\n",
       "        text-align: right;\n",
       "    }\n",
       "\n",
       "    .dataframe thead th {\n",
       "        text-align: left;\n",
       "    }\n",
       "\n",
       "    .dataframe tbody tr th {\n",
       "        vertical-align: top;\n",
       "    }\n",
       "</style>\n",
       "<table border=\"1\" class=\"dataframe\">\n",
       "  <thead>\n",
       "    <tr style=\"text-align: right;\">\n",
       "      <th></th>\n",
       "      <th>0</th>\n",
       "      <th>1</th>\n",
       "      <th>2</th>\n",
       "      <th>3</th>\n",
       "      <th>4</th>\n",
       "      <th>5</th>\n",
       "      <th>6</th>\n",
       "      <th>7</th>\n",
       "      <th>8</th>\n",
       "      <th>9</th>\n",
       "      <th>...</th>\n",
       "      <th>278</th>\n",
       "      <th>279</th>\n",
       "      <th>280</th>\n",
       "      <th>281</th>\n",
       "      <th>282</th>\n",
       "      <th>283</th>\n",
       "      <th>284</th>\n",
       "      <th>285</th>\n",
       "      <th>286</th>\n",
       "      <th>287</th>\n",
       "    </tr>\n",
       "  </thead>\n",
       "  <tbody>\n",
       "    <tr>\n",
       "      <th>0</th>\n",
       "      <td>0.668298</td>\n",
       "      <td>0.548841</td>\n",
       "      <td>0.117392</td>\n",
       "      <td>0.203017</td>\n",
       "      <td>0.423687</td>\n",
       "      <td>0.419696</td>\n",
       "      <td>0.406820</td>\n",
       "      <td>0.404772</td>\n",
       "      <td>0.629734</td>\n",
       "      <td>0.569510</td>\n",
       "      <td>...</td>\n",
       "      <td>0.311380</td>\n",
       "      <td>0.327497</td>\n",
       "      <td>0.379056</td>\n",
       "      <td>0.473182</td>\n",
       "      <td>0.281337</td>\n",
       "      <td>0.297942</td>\n",
       "      <td>0.558482</td>\n",
       "      <td>0.423212</td>\n",
       "      <td>0.685411</td>\n",
       "      <td>0.380766</td>\n",
       "    </tr>\n",
       "    <tr>\n",
       "      <th>1</th>\n",
       "      <td>0.283002</td>\n",
       "      <td>0.613971</td>\n",
       "      <td>0.393692</td>\n",
       "      <td>0.581547</td>\n",
       "      <td>0.410065</td>\n",
       "      <td>0.308246</td>\n",
       "      <td>0.591623</td>\n",
       "      <td>0.632532</td>\n",
       "      <td>0.577006</td>\n",
       "      <td>0.389397</td>\n",
       "      <td>...</td>\n",
       "      <td>0.375191</td>\n",
       "      <td>0.346094</td>\n",
       "      <td>0.370268</td>\n",
       "      <td>0.354313</td>\n",
       "      <td>0.380923</td>\n",
       "      <td>0.370735</td>\n",
       "      <td>0.464506</td>\n",
       "      <td>0.250134</td>\n",
       "      <td>0.417576</td>\n",
       "      <td>0.308807</td>\n",
       "    </tr>\n",
       "    <tr>\n",
       "      <th>2</th>\n",
       "      <td>0.455018</td>\n",
       "      <td>0.253589</td>\n",
       "      <td>0.404294</td>\n",
       "      <td>0.579182</td>\n",
       "      <td>0.409847</td>\n",
       "      <td>0.418306</td>\n",
       "      <td>0.341105</td>\n",
       "      <td>0.571718</td>\n",
       "      <td>0.360739</td>\n",
       "      <td>0.590069</td>\n",
       "      <td>...</td>\n",
       "      <td>0.374445</td>\n",
       "      <td>0.311372</td>\n",
       "      <td>0.469892</td>\n",
       "      <td>0.327135</td>\n",
       "      <td>0.439139</td>\n",
       "      <td>0.433660</td>\n",
       "      <td>0.355206</td>\n",
       "      <td>0.431112</td>\n",
       "      <td>0.612328</td>\n",
       "      <td>0.375584</td>\n",
       "    </tr>\n",
       "    <tr>\n",
       "      <th>3</th>\n",
       "      <td>0.344231</td>\n",
       "      <td>0.425660</td>\n",
       "      <td>0.312762</td>\n",
       "      <td>0.328497</td>\n",
       "      <td>0.330477</td>\n",
       "      <td>0.311680</td>\n",
       "      <td>0.329921</td>\n",
       "      <td>0.337684</td>\n",
       "      <td>0.444968</td>\n",
       "      <td>0.461716</td>\n",
       "      <td>...</td>\n",
       "      <td>0.249790</td>\n",
       "      <td>0.621151</td>\n",
       "      <td>0.248666</td>\n",
       "      <td>0.352571</td>\n",
       "      <td>0.468298</td>\n",
       "      <td>0.570970</td>\n",
       "      <td>0.308753</td>\n",
       "      <td>0.376420</td>\n",
       "      <td>0.476321</td>\n",
       "      <td>0.368048</td>\n",
       "    </tr>\n",
       "    <tr>\n",
       "      <th>4</th>\n",
       "      <td>0.370962</td>\n",
       "      <td>0.572395</td>\n",
       "      <td>0.551499</td>\n",
       "      <td>0.209993</td>\n",
       "      <td>0.579580</td>\n",
       "      <td>0.559422</td>\n",
       "      <td>0.252835</td>\n",
       "      <td>0.529668</td>\n",
       "      <td>0.295677</td>\n",
       "      <td>0.131341</td>\n",
       "      <td>...</td>\n",
       "      <td>0.565031</td>\n",
       "      <td>0.336552</td>\n",
       "      <td>0.475055</td>\n",
       "      <td>0.556967</td>\n",
       "      <td>0.269474</td>\n",
       "      <td>0.562342</td>\n",
       "      <td>0.219937</td>\n",
       "      <td>0.345794</td>\n",
       "      <td>0.513664</td>\n",
       "      <td>0.310097</td>\n",
       "    </tr>\n",
       "  </tbody>\n",
       "</table>\n",
       "<p>5 rows × 288 columns</p>\n",
       "</div>"
      ],
      "text/plain": [
       "        0         1         2         3         4         5         6    \\\n",
       "0  0.668298  0.548841  0.117392  0.203017  0.423687  0.419696  0.406820   \n",
       "1  0.283002  0.613971  0.393692  0.581547  0.410065  0.308246  0.591623   \n",
       "2  0.455018  0.253589  0.404294  0.579182  0.409847  0.418306  0.341105   \n",
       "3  0.344231  0.425660  0.312762  0.328497  0.330477  0.311680  0.329921   \n",
       "4  0.370962  0.572395  0.551499  0.209993  0.579580  0.559422  0.252835   \n",
       "\n",
       "        7         8         9      ...          278       279       280  \\\n",
       "0  0.404772  0.629734  0.569510    ...     0.311380  0.327497  0.379056   \n",
       "1  0.632532  0.577006  0.389397    ...     0.375191  0.346094  0.370268   \n",
       "2  0.571718  0.360739  0.590069    ...     0.374445  0.311372  0.469892   \n",
       "3  0.337684  0.444968  0.461716    ...     0.249790  0.621151  0.248666   \n",
       "4  0.529668  0.295677  0.131341    ...     0.565031  0.336552  0.475055   \n",
       "\n",
       "        281       282       283       284       285       286       287  \n",
       "0  0.473182  0.281337  0.297942  0.558482  0.423212  0.685411  0.380766  \n",
       "1  0.354313  0.380923  0.370735  0.464506  0.250134  0.417576  0.308807  \n",
       "2  0.327135  0.439139  0.433660  0.355206  0.431112  0.612328  0.375584  \n",
       "3  0.352571  0.468298  0.570970  0.308753  0.376420  0.476321  0.368048  \n",
       "4  0.556967  0.269474  0.562342  0.219937  0.345794  0.513664  0.310097  \n",
       "\n",
       "[5 rows x 288 columns]"
      ]
     },
     "execution_count": 47,
     "metadata": {},
     "output_type": "execute_result"
    }
   ],
   "source": [
    "training_file = \"income_tr.csv\"\n",
    "test_file = \"income_te.csv\"\n",
    "# #for cross validation\n",
    "# training_file = \"combined.csv\"\n",
    "# test_file = \"combined.csv\"\n",
    "global df_avg\n",
    "df_avg = main(training_file,test_file)\n",
    "#df_avg = replace_diagnol(df_avg)\n",
    "df_avg.head()"
   ]
  },
  {
   "cell_type": "markdown",
   "metadata": {},
   "source": [
    "### Parameter \"k\" :\n",
    "* Get k similar objects for each test object in the dataset. Get k largest elements and their indices using DataFrame.nlargest and DataFrame.nlargest.index function in each column. Each column represents one object/record in the test file. Use these k values and indices as the k-nearest indices."
   ]
  },
  {
   "cell_type": "code",
   "execution_count": 49,
   "metadata": {
    "collapsed": true
   },
   "outputs": [],
   "source": [
    "def get_k_nearest(df_class,df_avg,train_indices,test_indices,k):\n",
    "    #print(test_indices)\n",
    "    #print(train_indices)\n",
    "    df_train_avg = df_avg.iloc[train_indices]\n",
    "    #print(df_train_avg)\n",
    "    df_predicted_class = pd.DataFrame({\"Predicted Class\":[],\"Posterior\":[]})\n",
    "    for i in test_indices:\n",
    "        nearest_indices = df_train_avg.nlargest(k,i).index\n",
    "        #print(nearest_indices)\n",
    "        (predicted_class,posterior) = get_posterior_and_class(df_class,nearest_indices,0.5)\n",
    "        #print(predicted_class,posterior)\n",
    "        df_temp = pd.DataFrame({\"Predicted Class\":[predicted_class],\"Posterior\":[posterior]})\n",
    "        df_predicted_class = pd.concat([df_predicted_class,df_temp],axis = 0)\n",
    "    df_predicted_class = df_predicted_class.set_index(test_indices)\n",
    "    #print(df_predicted_class)\n",
    "    return df_predicted_class"
   ]
  },
  {
   "cell_type": "code",
   "execution_count": 68,
   "metadata": {
    "collapsed": true
   },
   "outputs": [],
   "source": [
    "def get_weighted_posterior_and_class(df_class,nearest_indices,df_avg):\n",
    "    print(\"Weighted\")"
   ]
  },
  {
   "cell_type": "markdown",
   "metadata": {},
   "source": [
    "### Posteriror :\n"
   ]
  },
  {
   "cell_type": "code",
   "execution_count": 69,
   "metadata": {
    "collapsed": true
   },
   "outputs": [],
   "source": [
    "def get_posterior_and_class(df_class,nearest_indices,threshold):\n",
    "    c1_count = 0 # <=50K\n",
    "    c2_count = 0 # >50K\n",
    "    for j in nearest_indices:\n",
    "        if(df_class[j] == \" <=50K\"):\n",
    "            #print(\"Found class: \" + df_class[j])\n",
    "            c1_count = c1_count + 1\n",
    "            #print(c1_count)\n",
    "        else:\n",
    "            #print(\"Found class:\" + df_class[j])\n",
    "            c2_count = c2_count + 1\n",
    "            #print(c2_count)\n",
    "    #print(c1_count,c2_count,len(nearest_indices))\n",
    "    posterior_c1 = c1_count/len(nearest_indices)\n",
    "    posterior_c2 = c2_count/len(nearest_indices)\n",
    "    if(posterior_c1 >= threshold):\n",
    "        return (\" <=50K\",posterior_c1)\n",
    "    else:\n",
    "        return (\" >50K\",posterior_c2)"
   ]
  },
  {
   "cell_type": "markdown",
   "metadata": {},
   "source": [
    "### Confusion Matrix"
   ]
  },
  {
   "cell_type": "code",
   "execution_count": 52,
   "metadata": {
    "collapsed": true
   },
   "outputs": [],
   "source": [
    "def get_confusion_matrix(df_output):\n",
    "    true_positive = 0\n",
    "    true_negative = 0\n",
    "    false_positive = 0\n",
    "    false_negative = 0\n",
    "    for i in df_output.index:\n",
    "        if(df_output[\"Actual Class\"][i] == \" <=50K\" and df_output[\"Predicted Class\"][i] == \" <=50K\"):\n",
    "            true_positive = true_positive + 1\n",
    "        elif(df_output[\"Actual Class\"][i] == \" <=50K\" and df_output[\"Predicted Class\"][i] == \" >50K\"):\n",
    "            false_negative = false_negative + 1\n",
    "        elif(df_output[\"Actual Class\"][i] == \" >50K\" and df_output[\"Predicted Class\"][i] == \" <=50K\"):\n",
    "            false_positive = false_positive + 1\n",
    "        else:\n",
    "            true_negative = true_negative + 1\n",
    "    confusion_matrix = [[true_positive,false_negative],[false_positive,true_negative]]\n",
    "    return confusion_matrix"
   ]
  },
  {
   "cell_type": "code",
   "execution_count": 53,
   "metadata": {
    "collapsed": true
   },
   "outputs": [],
   "source": [
    "def get_classification_accuracy(df_output,num_rows):\n",
    "    accuracy = 0\n",
    "    mse = 0\n",
    "    for i in df_output.index:\n",
    "        if(df_output[\"Actual Class\"][i] == df_output[\"Predicted Class\"][i]):\n",
    "            accuracy = accuracy + 1\n",
    "        else:\n",
    "            mse = mse + 1\n",
    "    accuracy = accuracy * 100/num_rows\n",
    "    mse = mse * 100/num_rows\n",
    "    return (accuracy,mse)"
   ]
  },
  {
   "cell_type": "markdown",
   "metadata": {},
   "source": [
    "### knn with cross validation"
   ]
  },
  {
   "cell_type": "code",
   "execution_count": 54,
   "metadata": {
    "collapsed": true
   },
   "outputs": [],
   "source": [
    "def knn_main(cv,k,df_avg):\n",
    "    df_avg = df_avg.sample(frac=1)\n",
    "    indices = df_avg.index\n",
    "    #pint(indices)\n",
    "    i = 0;\n",
    "    df_temp = pd.DataFrame({\"Predicted Class\":[],\"Posterior\":[]})\n",
    "    while i != num_rows:\n",
    "        test_indices = indices[i:i+cv]\n",
    "        train_indices = list(range(0,i)) + list(range(i+cv,num_rows))\n",
    "        i = i + cv\n",
    "        df_predicted_class = get_k_nearest(df_train[\"class\"],df_avg,train_indices,test_indices,k)\n",
    "        df_temp = pd.concat([df_temp,df_predicted_class])\n",
    "    df_temp = df_temp.sort_index(axis=0)\n",
    "    df_class = df_train[\"class\"]\n",
    "    df_actual_class = pd.DataFrame({\"Actual Class\":df_class})\n",
    "    df_temp = pd.concat([df_actual_class,df_temp],axis=1)\n",
    "    return df_temp"
   ]
  },
  {
   "cell_type": "code",
   "execution_count": 55,
   "metadata": {
    "collapsed": true
   },
   "outputs": [],
   "source": [
    "def get_k_nearest_2(df_class,df_avg,k,threshold):\n",
    "    df_predicted_class = pd.DataFrame({\"Predicted Class\":[],\"Posterior\":[]})\n",
    "    for i in df_avg.columns:\n",
    "        nearest_indices = df_avg.nlargest(k,i).index\n",
    "        #print(nearest_indices)\n",
    "        (predicted_class,posterior) = get_posterior_and_class(df_class,nearest_indices,threshold)\n",
    "        #print(predicted_class,posterior)\n",
    "        df_temp = pd.DataFrame({\"Predicted Class\":[predicted_class],\"Posterior\":[posterior]})\n",
    "        df_predicted_class = pd.concat([df_predicted_class,df_temp],axis = 0) \n",
    "    test_indices = list(range(0,num_test_rows))\n",
    "    df_predicted_class = df_predicted_class.set_index([test_indices])\n",
    "    return df_predicted_class"
   ]
  },
  {
   "cell_type": "markdown",
   "metadata": {},
   "source": [
    "### knn without cross validation"
   ]
  },
  {
   "cell_type": "code",
   "execution_count": 56,
   "metadata": {
    "collapsed": true
   },
   "outputs": [],
   "source": [
    "def knn_main2(k,df_avg,threshold):\n",
    "    df_temp = pd.DataFrame({\"Predicted Class\":[],\"Posterior\":[]})\n",
    "    #df_temp = pd.DataFrame({\"Predicted Class\":[],\"Posterior\":[]})\n",
    "    df_temp = get_k_nearest_2(df_train[\"class\"],df_avg,k,threshold)\n",
    "    #print(df_temp)\n",
    "    df_class = df_test[\"class\"]\n",
    "    #print(df_class)\n",
    "    df_actual_class = pd.DataFrame({\"Actual Class\":df_class})\n",
    "    df_temp = pd.concat([df_actual_class,df_temp],axis=1)\n",
    "    return df_temp"
   ]
  },
  {
   "cell_type": "code",
   "execution_count": 66,
   "metadata": {},
   "outputs": [
    {
     "name": "stdout",
     "output_type": "stream",
     "text": [
      "[[184, 37], [54, 13]]\n",
      "1 68.40277777777777 31.59722222222222\n",
      "[[218, 3], [66, 1]]\n",
      "2 76.04166666666667 23.958333333333332\n",
      "[[205, 16], [61, 6]]\n",
      "3 73.26388888888889 26.73611111111111\n",
      "[[219, 2], [66, 1]]\n",
      "4 76.38888888888889 23.61111111111111\n",
      "[[211, 10], [61, 6]]\n",
      "5 75.34722222222223 24.65277777777778\n",
      "[[220, 1], [65, 2]]\n",
      "6 77.08333333333333 22.916666666666668\n",
      "[[220, 1], [63, 4]]\n",
      "7 77.77777777777777 22.22222222222222\n",
      "[[220, 1], [66, 1]]\n",
      "8 76.73611111111111 23.26388888888889\n",
      "[[220, 1], [65, 2]]\n",
      "9 77.08333333333333 22.916666666666668\n",
      "[[220, 1], [66, 1]]\n",
      "10 76.73611111111111 23.26388888888889\n",
      "[[219, 2], [65, 2]]\n",
      "11 76.73611111111111 23.26388888888889\n",
      "[[220, 1], [67, 0]]\n",
      "12 76.38888888888889 23.61111111111111\n",
      "[[220, 1], [66, 1]]\n",
      "13 76.73611111111111 23.26388888888889\n",
      "[[221, 0], [67, 0]]\n",
      "14 76.73611111111111 23.26388888888889\n",
      "[[220, 1], [67, 0]]\n",
      "15 76.38888888888889 23.61111111111111\n",
      "[[221, 0], [67, 0]]\n",
      "16 76.73611111111111 23.26388888888889\n",
      "[[221, 0], [66, 1]]\n",
      "17 77.08333333333333 22.916666666666668\n",
      "[[221, 0], [67, 0]]\n",
      "18 76.73611111111111 23.26388888888889\n",
      "[[221, 0], [67, 0]]\n",
      "19 76.73611111111111 23.26388888888889\n"
     ]
    }
   ],
   "source": [
    "cv = 8\n",
    "k = list(range(7,8,2))\n",
    "acc = []\n",
    "TP_rate = []\n",
    "FP_rate = []\n",
    "TN_rate = []\n",
    "FN_rate = []\n",
    "F_measure = []\n",
    "\n",
    "#ROC :\n",
    "\n",
    "# k = 7\n",
    "# df_temp = knn_main2(k,df_avg,0.5)\n",
    "# k = np.unique(df_temp[\"Posterior\"])\n",
    "# k = sorted(k,reverse=True)\n",
    "\n",
    "maximum = 0\n",
    "for i in k:\n",
    "    #print(i,end = \" \")\n",
    "    #df_temp = knn_main(cv,i,df_avg) # for cross validation\n",
    "    df_temp = knn_main2(i,df_avg,0.5)\n",
    "    \n",
    "    #Roc\n",
    "    #df_temp = knn_main2(7,df_avg,i)\n",
    "    \n",
    "    df_temp.to_csv(\"knn_output.csv\")\n",
    "    \n",
    "    conf_matrix = get_confusion_matrix(df_temp)\n",
    "    (accuracy,mse) = get_classification_accuracy(df_temp,num_test_rows)\n",
    "    acc.append(accuracy)\n",
    "    TP_rate.append(conf_matrix[0][0]/(conf_matrix[0][0]+conf_matrix[0][1]))\n",
    "    FP_rate.append(conf_matrix[1][0]/(conf_matrix[1][0]+conf_matrix[1][1]))\n",
    "    TN_rate.append(conf_matrix[1][1]/(conf_matrix[1][0]+conf_matrix[1][1]))\n",
    "    FN_rate.append(conf_matrix[0][1]/(conf_matrix[0][0]+conf_matrix[0][1]))\n",
    "    F_measure.append(2*conf_matrix[0][0]/(2*conf_matrix[0][0]+conf_matrix[0][1]+conf_matrix[1][0]))\n",
    "    \n",
    "    print(conf_matrix)\n",
    "    print(i,accuracy,mse)\n",
    "class_ratio = [x / 100 for x in acc]\n",
    "#df_avg.head()"
   ]
  },
  {
   "cell_type": "code",
   "execution_count": 58,
   "metadata": {},
   "outputs": [
    {
     "data": {
      "text/plain": [
       "<matplotlib.text.Text at 0x7ffa081fd240>"
      ]
     },
     "execution_count": 58,
     "metadata": {},
     "output_type": "execute_result"
    },
    {
     "data": {
      "image/png": "[encoded data removed]",
      "text/plain": [
       "<matplotlib.figure.Figure at 0x7ffa07cc5f28>"
      ]
     },
     "metadata": {},
     "output_type": "display_data"
    }
   ],
   "source": [
    "colors = (0,0,0)\n",
    "area = np.pi*3\n",
    "plt.scatter(k, class_ratio, s=area, c=colors, alpha=0.5)\n",
    "plt.xlabel('k')\n",
    "plt.ylabel('Classification Ratio')"
   ]
  },
  {
   "cell_type": "markdown",
   "metadata": {},
   "source": [
    "### ROC curve"
   ]
  },
  {
   "cell_type": "code",
   "execution_count": 59,
   "metadata": {},
   "outputs": [],
   "source": [
    "# x = [0]\n",
    "# i = 0\n",
    "# while(x[i] < 1):\n",
    "#     x.append(x[i]+0.02)\n",
    "#     i = i + 1\n",
    "# plt.step(FP_rate, TP_rate, 'r-', x, x, 'b-')\n",
    "# plt.xlabel('False Poitive Rate')\n",
    "# plt.ylabel('True Positive Rate')\n",
    "# #plt.axis([0.0,1.0,0.6,1.0])\n",
    "# plt.show()"
   ]
  },
  {
   "cell_type": "code",
   "execution_count": 60,
   "metadata": {},
   "outputs": [
    {
     "data": {
      "image/png": "[encoded data removed]",
      "text/plain": [
       "<matplotlib.figure.Figure at 0x7ffa07cc50f0>"
      ]
     },
     "metadata": {},
     "output_type": "display_data"
    }
   ],
   "source": [
    "plt.plot(k,FP_rate)\n",
    "plt.xlabel('k')\n",
    "plt.ylabel('False Positive Rate')\n",
    "plt.show()"
   ]
  },
  {
   "cell_type": "code",
   "execution_count": 61,
   "metadata": {},
   "outputs": [
    {
     "data": {
      "image/png": "[encoded data removed]",
      "text/plain": [
       "<matplotlib.figure.Figure at 0x7ffa0822d080>"
      ]
     },
     "metadata": {},
     "output_type": "display_data"
    }
   ],
   "source": [
    "plt.plot(k,TP_rate)\n",
    "plt.xlabel('k')\n",
    "plt.ylabel('True Positive Rate')\n",
    "plt.show()"
   ]
  },
  {
   "cell_type": "code",
   "execution_count": 62,
   "metadata": {},
   "outputs": [
    {
     "data": {
      "image/png": "[encoded data removed]",
      "text/plain": [
       "<matplotlib.figure.Figure at 0x7ffa082447f0>"
      ]
     },
     "metadata": {},
     "output_type": "display_data"
    }
   ],
   "source": [
    "plt.plot(k,FN_rate)\n",
    "plt.xlabel('k')\n",
    "plt.ylabel('False Negative Rate')\n",
    "plt.show()"
   ]
  },
  {
   "cell_type": "code",
   "execution_count": 63,
   "metadata": {},
   "outputs": [
    {
     "data": {
      "image/png": "[encoded data removed]",
      "text/plain": [
       "<matplotlib.figure.Figure at 0x7ffa07db5a90>"
      ]
     },
     "metadata": {},
     "output_type": "display_data"
    }
   ],
   "source": [
    "plt.plot(k,TN_rate)\n",
    "plt.xlabel('k')\n",
    "plt.ylabel('True Negative Rate')\n",
    "plt.show()"
   ]
  },
  {
   "cell_type": "code",
   "execution_count": 64,
   "metadata": {},
   "outputs": [
    {
     "data": {
      "image/png": "[encoded data removed]",
      "text/plain": [
       "<matplotlib.figure.Figure at 0x7ffa06e5ad30>"
      ]
     },
     "metadata": {},
     "output_type": "display_data"
    }
   ],
   "source": [
    "plt.plot(k,F_measure)\n",
    "plt.xlabel('k')\n",
    "plt.ylabel('F - Measure')\n",
    "plt.show()"
   ]
  },
  {
   "cell_type": "code",
   "execution_count": null,
   "metadata": {
    "collapsed": true
   },
   "outputs": [],
   "source": []
  }
 ],
 "metadata": {
  "anaconda-cloud": {},
  "kernelspec": {
   "display_name": "Python 3",
   "language": "python",
   "name": "python3"
  },
  "language_info": {
   "codemirror_mode": {
    "name": "ipython",
    "version": 3
   },
   "file_extension": ".py",
   "mimetype": "text/x-python",
   "name": "python",
   "nbconvert_exporter": "python",
   "pygments_lexer": "ipython3",
   "version": "3.4.3"
  }
 },
 "nbformat": 4,
 "nbformat_minor": 1
}
