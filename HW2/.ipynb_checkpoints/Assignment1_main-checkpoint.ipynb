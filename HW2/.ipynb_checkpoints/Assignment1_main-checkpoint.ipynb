{
 "cells": [
  {
   "cell_type": "markdown",
   "metadata": {
    "collapsed": true
   },
   "source": [
    "\n",
    "\n"
   ]
  },
  {
   "cell_type": "markdown",
   "metadata": {
    "collapsed": true
   },
   "source": [
    "# Assignment - 1"
   ]
  },
  {
   "cell_type": "code",
   "execution_count": null,
   "metadata": {
    "collapsed": true
   },
   "outputs": [],
   "source": [
    "import pandas as pd\n",
    "import numpy as np\n",
    "%matplotlib inline\n",
    "import matplotlib.pyplot as plt\n",
    "import seaborn as sns"
   ]
  },
  {
   "cell_type": "markdown",
   "metadata": {},
   "source": [
    "### Importing the dataset"
   ]
  },
  {
   "cell_type": "code",
   "execution_count": null,
   "metadata": {},
   "outputs": [],
   "source": [
    "df = pd.read_csv(\"income_tr.csv\") #Reading the income_tr csv file into a dataframe df\n",
    "df.head()\n",
    "global num_rows\n",
    "num_rows = len(df.index)"
   ]
  },
  {
   "cell_type": "code",
   "execution_count": null,
   "metadata": {},
   "outputs": [],
   "source": [
    "df.drop(\"ID\",axis = 1, inplace=True)\n",
    "df.describe() "
   ]
  },
  {
   "cell_type": "markdown",
   "metadata": {},
   "source": [
    "## Exploratory Data Analysis\n",
    "\n",
    "We will perform all different types of analysis on data which include:\n",
    "1. Doing bar plots and histograms based on the type of attribute.\n",
    "2. Counting the categories in each dataset.\n",
    "3. Looking at the missing values and imputing them with values that seem fit.\n",
    "4. Making assumptions for calculating the proximity measures on these attributes."
   ]
  },
  {
   "cell_type": "markdown",
   "metadata": {},
   "source": [
    "## Data Visualization\n",
    "\n",
    "a. Instead of plotting the graphs independently for each variale, we will plot the graphs all in a single figure.\n",
    "b. We will plot barplots and histograms based on the type of data."
   ]
  },
  {
   "cell_type": "code",
   "execution_count": null,
   "metadata": {},
   "outputs": [],
   "source": [
    "df.boxplot(\"education_cat\", by = \"class\")"
   ]
  },
  {
   "cell_type": "markdown",
   "metadata": {},
   "source": [
    "* People with highest education tend to receive salary more than 50K."
   ]
  },
  {
   "cell_type": "code",
   "execution_count": null,
   "metadata": {},
   "outputs": [],
   "source": [
    "df.boxplot(\"education_cat\", by = \"gender\")"
   ]
  },
  {
   "cell_type": "markdown",
   "metadata": {},
   "source": [
    "* While there is equal spread in between education grade in Females, the highest education i.e. Doctorate. "
   ]
  },
  {
   "cell_type": "code",
   "execution_count": null,
   "metadata": {},
   "outputs": [],
   "source": [
    "df.boxplot(\"hour_per_week\", by = \"class\")"
   ]
  },
  {
   "cell_type": "markdown",
   "metadata": {},
   "source": [
    "* Hours per week surely has an important role in predicting the salary. i.e. below or above 50K."
   ]
  },
  {
   "cell_type": "code",
   "execution_count": null,
   "metadata": {},
   "outputs": [],
   "source": [
    "df.boxplot(\"age\", by = \"class\")"
   ]
  },
  {
   "cell_type": "markdown",
   "metadata": {},
   "source": [
    "* Although there is not much information available from this plot, it seems people get pay above 50k only after a certain age. "
   ]
  },
  {
   "cell_type": "code",
   "execution_count": null,
   "metadata": {},
   "outputs": [],
   "source": [
    "import math\n",
    "fig = plt.figure(figsize=(20,15))  #Creating a new figure with the mentioned figure size\n",
    "cols = 4         # No of columns to display the charts\n",
    "rows = 4         # No of rows to display the charts. These numbers are chosen as we have 16 attributes\n",
    "                 # Alternatively, *rows = math.ceil(float(df.shape[1]) / cols)* \n",
    "                 # can be used when there are indefinete number of attributes.\n",
    "\n",
    "for i, column in enumerate(df.columns):\n",
    "    ax = fig.add_subplot(rows, cols, i+1)      #Adds a subplot in the i+1 th position\n",
    "    ax.set_title(column)\n",
    "    if df.dtypes[column] == np.object:         #For categorical attributes.\n",
    "        df[column].value_counts().plot(kind=\"bar\", axes=ax)\n",
    "    else:\n",
    "        df[column].hist(axes=ax)               #For conitnous attributes\n",
    "        plt.xticks(rotation=\"vertical\")\n",
    "\n",
    "plt.subplots_adjust(hspace=1.2, wspace=0.2)    # To adjust the plots and their labels\n"
   ]
  },
  {
   "cell_type": "markdown",
   "metadata": {},
   "source": [
    "## Exploring the Data:\n",
    "These charts give information about all the attributes.\n",
    "1.  Beginning with the first plot, number of people working in a particular age group is decreasing.\n",
    "2.  In the workclass graph, we can see a value marked with \"?\" in the workclass graph. This might be a missing value. Many of       the workclass records are Private.\n",
    "3.  In the education plot, we can see that many people have their highest education as HS-grad.\n",
    "4.  In education_cat, \"9\" is the most frequent record which seems same as the frequency of HS-grad in education. Seems like         education_cat is just a numeric to the education. We can confirm it with value_counts function.\n",
    "5.  Marital_status and relationship seem to be related as Married implies the person is a husband or wife. Never married relates     to unmarried.\n",
    "6.  There seems to be missing values in occupation marked with \"?\". And their frequency is somewhat similar to the missing           values in workclass. They might be missing values of the same record. We can validate this.\n",
    "7.  In the race category, majority of the observations are whites.\n",
    "8.  There are around 340 Males which constitute 65% of the data.\n",
    "9.  There are a lot of zeroes in the attributes capital_gain and capital_loss.\n",
    "10. From the hour_per_week graph, it seems there are a lot of observations in the bin 30-40. While calculating the similarities, \n",
    "    we can treat hour_per_week as coninuous or we can categorize it by implying 0-20 as part time, 20-40 as full time and rest       as over time.\n",
    "11. From the native_country, most frequent outcome is United-States and there are missing values which are represented as \"?\".       In addition to that, we can also infer that whites belong to United-States."
   ]
  },
  {
   "cell_type": "code",
   "execution_count": null,
   "metadata": {},
   "outputs": [],
   "source": [
    "# df[\"education\"].value_counts()"
   ]
  },
  {
   "cell_type": "code",
   "execution_count": null,
   "metadata": {},
   "outputs": [],
   "source": [
    "# df[\"education_cat\"].value_counts()"
   ]
  },
  {
   "cell_type": "markdown",
   "metadata": {},
   "source": [
    "* We can confirm that they both are the same and drop the education attribute."
   ]
  },
  {
   "cell_type": "code",
   "execution_count": null,
   "metadata": {},
   "outputs": [],
   "source": [
    "# df.drop(\"education\", axis = 1, inplace = True)"
   ]
  },
  {
   "cell_type": "code",
   "execution_count": null,
   "metadata": {},
   "outputs": [],
   "source": [
    "# To check the number of categories\n",
    "# df[\"marital_status\"].value_counts()"
   ]
  },
  {
   "cell_type": "code",
   "execution_count": null,
   "metadata": {},
   "outputs": [],
   "source": [
    "# df[\"relationship\"].value_counts()"
   ]
  },
  {
   "cell_type": "markdown",
   "metadata": {},
   "source": [
    "* As you can see the sum of wife and husban is almost equal to Married-civ-spouse. We can say that these two variables are somewhat related."
   ]
  },
  {
   "cell_type": "code",
   "execution_count": null,
   "metadata": {},
   "outputs": [],
   "source": [
    "# df[\"gender\"].value_counts()"
   ]
  },
  {
   "cell_type": "markdown",
   "metadata": {},
   "source": [
    "* Majority of the observations are male."
   ]
  },
  {
   "cell_type": "code",
   "execution_count": null,
   "metadata": {},
   "outputs": [],
   "source": [
    "# df[\"race\"].value_counts()"
   ]
  },
  {
   "cell_type": "markdown",
   "metadata": {},
   "source": [
    "## Missing Values:\n",
    "\n",
    "* Exploring further into the attributes workclass, occupation and native_country"
   ]
  },
  {
   "cell_type": "code",
   "execution_count": null,
   "metadata": {},
   "outputs": [],
   "source": [
    "# Exploring the missing values in workclass\n",
    "# df[\"workclass\"].value_counts()"
   ]
  },
  {
   "cell_type": "markdown",
   "metadata": {},
   "source": [
    "* As we can see there are 28 missing values.\n",
    "* Now, exploring the missing values in occupation."
   ]
  },
  {
   "cell_type": "code",
   "execution_count": null,
   "metadata": {},
   "outputs": [],
   "source": [
    "# df[\"occupation\"].value_counts()"
   ]
  },
  {
   "cell_type": "markdown",
   "metadata": {},
   "source": [
    "* In this attribute, there are again 28 records missing. Probably the missing values are inside the same records. We can simply check this by accessing those records."
   ]
  },
  {
   "cell_type": "code",
   "execution_count": null,
   "metadata": {},
   "outputs": [],
   "source": [
    "# df[df[\"occupation\"]==\" ?\"].index == df[df[\"workclass\"] == \" ?\"].index"
   ]
  },
  {
   "cell_type": "markdown",
   "metadata": {},
   "source": [
    "* As you can see missing values in both the attributes belong to the same records. Maybe this implies it is a an occupation which could not be enclosed or they might be unemployed. So we will just replace the values with a seperate category. We can give workclass as \"X\"(No proper meaning, only for the sake of categorizing the missing value) and \"Job_X\" for the occupation."
   ]
  },
  {
   "cell_type": "code",
   "execution_count": null,
   "metadata": {},
   "outputs": [],
   "source": [
    "df[\"occupation\"].replace(to_replace =\"\\?\" , value = \"Job_X\", inplace = True, regex = True)\n",
    "df[\"workclass\"].replace(to_replace=\"\\?\", value = \"X\", inplace = True, regex=True)"
   ]
  },
  {
   "cell_type": "markdown",
   "metadata": {},
   "source": [
    "Checking the columns once again to verify our code."
   ]
  },
  {
   "cell_type": "code",
   "execution_count": null,
   "metadata": {},
   "outputs": [],
   "source": [
    "# df[\"workclass\"].value_counts()"
   ]
  },
  {
   "cell_type": "code",
   "execution_count": null,
   "metadata": {},
   "outputs": [],
   "source": [
    "# df[\"occupation\"].value_counts()"
   ]
  },
  {
   "cell_type": "markdown",
   "metadata": {},
   "source": [
    "* Both of the missing values are replaced."
   ]
  },
  {
   "cell_type": "markdown",
   "metadata": {},
   "source": [
    "* Let us take a look at the native_country attribute."
   ]
  },
  {
   "cell_type": "code",
   "execution_count": null,
   "metadata": {},
   "outputs": [],
   "source": [
    "# df[\"native_country\"].value_counts()"
   ]
  },
  {
   "cell_type": "markdown",
   "metadata": {},
   "source": [
    "* Since there are only 6 missing values, we can simply impute the most frequent value into these missing values. The most frequent one is the united States."
   ]
  },
  {
   "cell_type": "code",
   "execution_count": null,
   "metadata": {
    "collapsed": true
   },
   "outputs": [],
   "source": [
    "df[\"native_country\"].replace(to_replace = \"\\?\", value = \"United-States\", inplace = True, regex = True)"
   ]
  },
  {
   "cell_type": "code",
   "execution_count": null,
   "metadata": {},
   "outputs": [],
   "source": [
    "# df[\"native_country\"].value_counts()"
   ]
  },
  {
   "cell_type": "markdown",
   "metadata": {},
   "source": [
    "* As you can see, the missing values are merged into United-States. "
   ]
  },
  {
   "cell_type": "markdown",
   "metadata": {},
   "source": [
    "## Preprocessing Attributes:\n",
    "\n",
    "* As we are now done dealing with the missing values, we will now decide how to deal with the attributes to calculate the proximity measure.\n",
    "\n",
    "* Continuous attributes:\n",
    "    * We have 5 continuous attributes age, fnlwgt, capital_gain, capital_loss.\n",
    "    * Capital_gain and capital_loss have a lot of zeroes in the data. We cannot use a distance measure to calculate the               similarities between them as 0-0 match does not mean anything. Hence, we have decided to label the records in capital_gain       and capital_loss as 0 for 0 and 1 for any other number. This will help us perform jaccard similarity on this data set as         it can be treated as a binary vector.\n",
    "    * To calculate distances between age, fnlwgt and hour_per_week we will have to scale the attributes. The feature scaling is       done to make the assumption that all the features has the equal opportunity to influence the weight, which more really           reflects the knowledge you know about the data. Therefore, we will scale these attributes in between 0 to 1. We can also         normalize the data, but for the sake of simplicity we are only scaling the data to 0 to 1 for all the three attributes.         Once we are done with the scaling, we calculated distance using Euclidian distance measure with L2 norm.\n",
    "* Nominal Attributes: \n",
    "    * Most of the attributes in this data set are nominal.\n",
    "    * For nominal attributes we simply use the similarity measure of s = 1 if both the records are equal, s = 0 if they are not       equal\n",
    "    * So the nominal attributes in the data are workclass, occupation, marital_status, gender, race, native_country,                   relationship. We will just use this measure for all these attributes.\n",
    "* Ordinal Attributes:\n",
    "    * There is only one ordinal attribute in this dataset and that is education_cat. education and education_cat both represent same data and we will drop education attribute as it is not useful for calculating the similarities. For ordinal data, we will map the data to 0 to 1 and then calculate the difference of these attributes. Similiarity will be 1 - d.\n",
    "\n",
    "\n",
    "\n",
    "## Proximity Measures for attributes:\n",
    "We will discuss about the different similarity or distance measures used for different attributes.\n",
    "\n",
    "### Continuous attributes: \n",
    "The continuous attributes that are in the data set are age, fnlwgt, hour_per_week. We will standadize the data using standard deviation scaling function. We can calculate the distances using Minkowski distance for n = 3 and L2 norm.\n",
    "\n",
    "Dissimilarity: d = minkowski with norm 2, similairty: s = 1/e^d. As the distance increases, e^d increases and the similarity decreases.\n",
    "\n",
    "### Ordinal Attributes:\n",
    "\n",
    "Dissimilarity d = |x-y|/(n-1) and similarity s = 1 - d.\n",
    "\n",
    "### Nominal Attributes:\n",
    "The nominal attributes in the data are workclass, education, occupation, marital_status, relationship, race, gender, native_country.\n",
    "\n",
    "Dissimilarity d = 0 if x = y, or d = 1 if x != y, \n",
    "similarity s = 1 if x = y, or s = 0 if x != y.\n",
    "\n",
    "### Scaling the data:    \n",
    "* We will scale the attributes, hour_per_week, age and fnlwgt in between 0 to 1. "
   ]
  },
  {
   "cell_type": "code",
   "execution_count": null,
   "metadata": {
    "collapsed": true
   },
   "outputs": [],
   "source": [
    "df[\"age\"] = df[[\"age\"]].apply(lambda x : (x - np.min(x))/(np.max(x) - np.min(x)))\n",
    "df[\"fnlwgt\"] = df[[\"fnlwgt\"]].apply(lambda x : (x - np.min(x)) / (np.max(x) - np.min(x)))\n",
    "df[\"hour_per_week\"] = df[[\"hour_per_week\"]].apply(lambda x : (x - np.min(x)) / (np.max(x)-np.min(x)))"
   ]
  },
  {
   "cell_type": "code",
   "execution_count": null,
   "metadata": {},
   "outputs": [],
   "source": [
    "# To verify the data:\n",
    "# df.head()"
   ]
  },
  {
   "cell_type": "markdown",
   "metadata": {},
   "source": [
    "* As we can see the values in the continuous attributes are less than 1. Now we can calculate the euclidian distance on these attributes.\n",
    "* We will create a different data frame just for the continuous attributes and apply the function on this dataframe."
   ]
  },
  {
   "cell_type": "code",
   "execution_count": null,
   "metadata": {},
   "outputs": [],
   "source": [
    "df_euc = df[[\"age\",\"fnlwgt\",\"hour_per_week\"]]\n",
    "# df_euc.head()"
   ]
  },
  {
   "cell_type": "code",
   "execution_count": null,
   "metadata": {},
   "outputs": [],
   "source": [
    "# df.boxplot(\"age\",by = \"relationship\" )"
   ]
  },
  {
   "cell_type": "markdown",
   "metadata": {},
   "source": [
    "### Euclidian Distance:"
   ]
  },
  {
   "cell_type": "code",
   "execution_count": null,
   "metadata": {
    "collapsed": true
   },
   "outputs": [],
   "source": [
    "def mdist(a,b):                                      #mdist is the function to calculate euclidian distance with L2 norm\n",
    "    total = 0;\n",
    "    for i in range(0,len(df_euc.keys())):\n",
    "        diff = b[i] - a[i];\n",
    "        total += diff * diff;\n",
    "    return np.sqrt(total)\n",
    "\n",
    "con_similarity=[]                                     #similarity for continuous variables age,fnlwgt\n",
    "for i in df_euc.values:\n",
    "    for j in df_euc.values:\n",
    "        con_similarity.append(1/np.exp(mdist(i,j)))   # Once we have the distance d, we can calculate the similarity by 1/e^d\n",
    "ar = np.array(con_similarity)                         # This is the final array which consists of 270,400 values\n",
    "shape = (num_rows,num_rows)\n",
    "ar_new = ar.reshape(shape,)                           # Arranging the 1d array to 520 x 520 matrix\n",
    "ar_new.shape\n",
    "df_mdist = pd.DataFrame(data=ar_new)                  # Loading these values into a dataframe"
   ]
  },
  {
   "cell_type": "markdown",
   "metadata": {},
   "source": [
    "### Jaccardian Similarity Function:\n",
    "* This function counts the number of (0,1), (1,0) and (1,1) given two input vectors.\n",
    "* Calculates the jaccardian similarity for attributes listed in labels. Uses the jaccardian formula to get the similarity. Produces one value for all attributes in labels."
   ]
  },
  {
   "cell_type": "code",
   "execution_count": null,
   "metadata": {},
   "outputs": [],
   "source": [
    "def jaccardian_counts(vector_1,vector_2):\n",
    "    M11 = 0\n",
    "    M10 = 0\n",
    "    M01 = 0\n",
    "    for i in range(0,len(vector_1)):\n",
    "        if(vector_1[i] == 1 and vector_2[i] == 1):\n",
    "            M11 = M11 + 1\n",
    "        if(vector_1[i] == 1 and vector_2[i] == 0):\n",
    "            M10 = M10 + 1\n",
    "        if(vector_1[i] == 0 and vector_2[i] == 1):\n",
    "            M01 = M01 + 1\n",
    "    return M11,M10,M01\n",
    "\n",
    "def jaccardian_sim(labels):\n",
    "    delta_k = []\n",
    "    jacc_sim = []\n",
    "    length = num_rows\n",
    "    for j in range(0,length):\n",
    "        for k in range(0,length):\n",
    "            vector_1 = []\n",
    "            vector_2 = []\n",
    "            for i in range(0,len(labels)):\n",
    "                vector_1.append(df[labels[i]][j])\n",
    "                vector_2.append(df[labels[i]][k])\n",
    "            M11,M10,M01 = jaccardian_counts(vector_1,vector_2)\n",
    "            delta_k.append(get_delta(vector_1,vector_2))\n",
    "            if(M11+M10+M01 == 0):\n",
    "                jacc_sim.append(0)\n",
    "                continue\n",
    "            jacc_sim.append(M11/(M10+M01+M11))\n",
    "            \n",
    "    ar = np.array(jacc_sim)\n",
    "    shape = (length,length)\n",
    "    ar_reshape = ar.reshape(shape,)\n",
    "    df_sim = pd.DataFrame(data = ar_reshape)\n",
    "    \n",
    "    ar = np.array(delta_k)\n",
    "    shape = (length,length)\n",
    "    ar_reshape = ar.reshape(shape,)\n",
    "    df_delta_k = pd.DataFrame(data = ar_reshape)\n",
    "    return(df_sim,df_delta_k)\n",
    "def get_norm(x):\n",
    "    square_sum = 0\n",
    "    for i in x:\n",
    "        square_sum = square_sum + i * i\n",
    "    return math.sqrt(square_sum)\n",
    "\n",
    "def dot(v1, v2):\n",
    "    sum_prod = 0\n",
    "    for i in range(0,len(v1)):\n",
    "        sum_prod = sum_prod + v1[i] * v2[i]\n",
    "    return sum_prod\n",
    "\n",
    "def cos_sim(a,b):\n",
    "    dot_prod = dot(a,b)\n",
    "    #print(dot_prod)\n",
    "    a_norm = get_norm(a)\n",
    "    b_norm = get_norm(b)\n",
    "    #print(a_norm)\n",
    "    if(a_norm == 0 or b_norm == 0):\n",
    "        return 0\n",
    "    return (dot_prod/(a_norm * b_norm))\n",
    "\n",
    "\n",
    "def cosine_sim(labels):\n",
    "    delta_k = []\n",
    "    cosine_sim1 = []\n",
    "    length = num_rows\n",
    "    for j in range(0,length):\n",
    "        for k in range(0,length):\n",
    "            vector_1 = []\n",
    "            vector_2 = []\n",
    "            for i in range(0,len(labels)):\n",
    "                vector_1.append(df[labels[i]][j])\n",
    "                vector_2.append(df[labels[i]][k])\n",
    "            cosine_sim1.append(cos_sim(vector_1,vector_2))\n",
    "            delta_k.append(get_delta(vector_1,vector_2))\n",
    "            \n",
    "    ar = np.array(cosine_sim1)\n",
    "    shape = (length,length)\n",
    "    ar_reshape = ar.reshape(shape,)\n",
    "    df_sim = pd.DataFrame(data = ar_reshape)\n",
    "    \n",
    "    ar = np.array(delta_k)\n",
    "    shape = (length,length)\n",
    "    ar_reshape = ar.reshape(shape,)\n",
    "    df_delta_k = pd.DataFrame(data = ar_reshape)\n",
    "    return(df_sim,df_delta_k)"
   ]
  },
  {
   "cell_type": "markdown",
   "metadata": {
    "collapsed": true
   },
   "source": [
    "### Delta:\n",
    "* Given two vectors this function returns 0 if both vectors are zero vectors. Used for sparse data. Delta refers to variable delta in the general approach formula to calculate similarities."
   ]
  },
  {
   "cell_type": "code",
   "execution_count": null,
   "metadata": {
    "collapsed": true
   },
   "outputs": [],
   "source": [
    "def get_delta(vector_1,vector_2):\n",
    "    for i in range(0,len(vector_1)):\n",
    "        if(vector_1[i] == 1 or vector_2[i] == 1):\n",
    "            return 1\n",
    "    return 0"
   ]
  },
  {
   "cell_type": "markdown",
   "metadata": {},
   "source": [
    "### Similarity function for Nominal and Ordinal:"
   ]
  },
  {
   "cell_type": "code",
   "execution_count": null,
   "metadata": {
    "collapsed": true
   },
   "outputs": [],
   "source": [
    "def nom_sim(dframe):\n",
    "    temp = []\n",
    "    for i in dframe:\n",
    "        for j in dframe:\n",
    "            if i == j:\n",
    "                a = 1\n",
    "                temp.append(a)\n",
    "            else:\n",
    "                a = 0\n",
    "                temp.append(a)        \n",
    "    ar = np.array(temp)\n",
    "    shape = (len(dframe), len(dframe))\n",
    "    ar_reshape = ar.reshape(shape,)\n",
    "    df_sim = pd.DataFrame(data = ar_reshape)\n",
    "    return(df_sim)\n",
    "\n",
    "\n",
    "def ord_sim(dframe):\n",
    "    temp = []\n",
    "    for i in dframe:\n",
    "        i = i - 1\n",
    "        for j in dframe:\n",
    "            j = j - 1\n",
    "            d = abs(i - j) / (len(dframe.unique()) - 1)\n",
    "            s = temp.append(1-d)\n",
    "    ar = np.array(temp)\n",
    "    shape = (len(dframe), len(dframe))\n",
    "    ar_reshape = ar.reshape(shape,)\n",
    "    df_sim = pd.DataFrame(data = ar_reshape)\n",
    "    return(df_sim)"
   ]
  },
  {
   "cell_type": "markdown",
   "metadata": {},
   "source": [
    "### Average function :\n",
    "\n",
    "* Combines similarities for different attribute types using general approach. delta_k here is the delta values of attributes for which jaccardian similarity is applied. \n",
    "* Loop iterates through all (except jaccardian) the data frames containing similarity values for which average similarity is to be calculated.\n",
    "* The same is done with jaccardian, but if the two vectors are 0 (delta value for that element in df is 0) then it is not included in the average, delta_count makes sure of this."
   ]
  },
  {
   "cell_type": "code",
   "execution_count": null,
   "metadata": {},
   "outputs": [],
   "source": [
    "def average_sim(df_list,delta_k):\n",
    "    average = []\n",
    "    length = num_rows\n",
    "    for i in range(0,length):\n",
    "        for j in range(0,length):\n",
    "            avg = 0\n",
    "            delta_count = 0\n",
    "            for k in range(0,len(df_list)-1):\n",
    "                avg = avg + df_list[k][i][j]\n",
    "                delta_count = delta_count + 1\n",
    "            k = len(df_list)-1\n",
    "            if(k == len(df_list)-1):\n",
    "                avg = avg + df_list[k][i][j] * delta_k[i][j]\n",
    "                if(delta_k[i][j] == 1):\n",
    "                    delta_count = delta_count + 1\n",
    "            avg = avg / delta_count\n",
    "            average.append(avg)\n",
    "    \n",
    "    ar = np.array(average)\n",
    "    shape = (length, length)\n",
    "    ar_reshape = ar.reshape(shape,)\n",
    "    df_avg = pd.DataFrame(data = ar_reshape)\n",
    "    return(df_avg)"
   ]
  },
  {
   "cell_type": "markdown",
   "metadata": {},
   "source": [
    "* Replacing the values that are other than 0 in capital_gain and capital_loss with 1.\n",
    "* This will help us to apply jaccard similarity."
   ]
  },
  {
   "cell_type": "code",
   "execution_count": null,
   "metadata": {},
   "outputs": [],
   "source": [
    "def replace_positive_with_one(dframes):\n",
    "        for i in range(0,len(dframes)):\n",
    "            for j in range(0,len(df[dframes[i]])):\n",
    "                if(df[dframes[i]][j] > 0):\n",
    "                       df[dframes[i]][j] = 1"
   ]
  },
  {
   "cell_type": "code",
   "execution_count": null,
   "metadata": {},
   "outputs": [],
   "source": [
    "replace_dframes = [\"capital_loss\",\"capital_gain\"]\n",
    "replace_positive_with_one(replace_dframes)\n",
    "df_jac_sim,df_delta_k = jaccardian_sim(replace_dframes)\n",
    "#print(df_jac_sim)\n",
    "df_edu_sim = ord_sim(df[\"education_cat\"])\n",
    "df_occu_sim = nom_sim(df[\"occupation\"])\n",
    "df_race_sim = nom_sim(df[\"race\"])\n",
    "df_country_sim = nom_sim(df[\"native_country\"])\n",
    "df_marital_sim = nom_sim(df[\"marital_status\"])\n",
    "df_gender_sim = nom_sim(df[\"gender\"])\n",
    "df_relationship_sim = nom_sim(df[\"relationship\"])\n",
    "df_list = [df_mdist,df_edu_sim,df_occu_sim,df_race_sim,df_country_sim,df_marital_sim,df_gender_sim,df_relationship_sim,df_jac_sim]\n",
    "df_avg = average_sim(df_list,df_delta_k)"
   ]
  },
  {
   "cell_type": "markdown",
   "metadata": {},
   "source": [
    "### Replace Diagonal Elements:\n",
    "Replace all the diagonal elements in the final similarity data frames with zero as we do not want to consider an objects similarity with itself"
   ]
  },
  {
   "cell_type": "code",
   "execution_count": null,
   "metadata": {},
   "outputs": [],
   "source": [
    "def replace_diagnol(df_avg):\n",
    "    for i in range(0,num_rows):\n",
    "        df_avg[i][i] = 0\n",
    "    return df_avg\n",
    "\n",
    "df_avg = replace_diagnol(df_avg)\n",
    "df_avg.head()"
   ]
  },
  {
   "cell_type": "markdown",
   "metadata": {},
   "source": [
    "### Parameter \"k\" :\n",
    "* Get k similar objects for each object in the dataset. Get k largest elements and their indices using DataFrame.nlargest and DataFrame.nlargest.index function in each column (Similarity matrix is symmetric). Each column represents one object/record. Use these k values and indices to populate the final output dataframe.\n",
    "* After executing this step, it will ask you to enter the value for k. "
   ]
  },
  {
   "cell_type": "code",
   "execution_count": null,
   "metadata": {},
   "outputs": [],
   "source": [
    "def k_similar(df_avg,k):\n",
    "    df_k_similar = []\n",
    "    temp_indices = []\n",
    "    temp_values = []\n",
    "    \n",
    "    for i in range(0,num_rows):\n",
    "        temp_indices = df_avg.nlargest(k,i).index\n",
    "        temp_indices = [x+1 for x in temp_indices]\n",
    "        temp_values = df_avg.nlargest(k,i)[i]\n",
    "        t = 1       \n",
    "        #df_prox = DataFrame({'Transaction ID':i+1})\n",
    "        for j in temp_values:\n",
    "            df_temp1 = pd.DataFrame({t:[temp_indices[t-1]]})\n",
    "            df_temp2 = pd.DataFrame({'%d-prox'%t:[j]})     \n",
    "            if(t == 1 ):\n",
    "                df_temp3 = pd.concat([df_temp1,df_temp2],axis=1)\n",
    "            else:\n",
    "                df_temp3 = pd.concat([df_temp3,df_temp1,df_temp2],axis=1)\n",
    "            t = t + 1\n",
    "        if(i == 0):\n",
    "            df_prox = df_temp3.copy()\n",
    "            #print(df_prox)\n",
    "        else:\n",
    "            df_prox = pd.concat([df_prox,df_temp3],axis=0,ignore_index=True)\n",
    "    return df_prox"
   ]
  },
  {
   "cell_type": "code",
   "execution_count": null,
   "metadata": {
    "collapsed": true
   },
   "outputs": [],
   "source": [
    "k = int(input('Enter the parameter k: '))\n",
    "df_prox = k_similar(df_avg,k)\n",
    "df_temp = pd.DataFrame({'Transaction ID':list(range(1,num_rows+1))})\n",
    "df_prox = pd.concat([df_temp,df_prox],axis=1)\n",
    "df_prox.to_csv(\"output.csv\")\n",
    "df_prox.head()"
   ]
  },
  {
   "cell_type": "markdown",
   "metadata": {},
   "source": [
    "## Section - C:\n",
    "\n",
    "### A.\n",
    "* To check the distribution of each proximation, we will plot histograms. This will help us to get an idea how the data are distributed. We plotted histograms all the way upto k= 10"
   ]
  },
  {
   "cell_type": "code",
   "execution_count": null,
   "metadata": {},
   "outputs": [],
   "source": [
    "# df_prox[\"1-prox\"].hist(bins = 20)\n",
    "# plt.title('k = 1')"
   ]
  },
  {
   "cell_type": "code",
   "execution_count": null,
   "metadata": {},
   "outputs": [],
   "source": [
    "# df_prox[\"2-prox\"].hist(bins = 20)\n",
    "# plt.title('k = 2')"
   ]
  },
  {
   "cell_type": "code",
   "execution_count": null,
   "metadata": {},
   "outputs": [],
   "source": [
    "# df_prox[\"3-prox\"].hist(bins = 20)\n",
    "# plt.title('k = 3')"
   ]
  },
  {
   "cell_type": "code",
   "execution_count": null,
   "metadata": {},
   "outputs": [],
   "source": [
    "# df_prox[\"4-prox\"].hist(bins = 20)\n",
    "# plt.title('k = 4')"
   ]
  },
  {
   "cell_type": "code",
   "execution_count": null,
   "metadata": {},
   "outputs": [],
   "source": [
    "# df_prox[\"5-prox\"].hist(bins = 20)\n",
    "# plt.title('k = 5')"
   ]
  },
  {
   "cell_type": "code",
   "execution_count": null,
   "metadata": {},
   "outputs": [],
   "source": [
    "# df_prox[\"10-prox\"].hist(bins = 20)\n",
    "# plt.title('k = 10')"
   ]
  },
  {
   "cell_type": "markdown",
   "metadata": {},
   "source": [
    "### B. \n",
    "* We will concatenate the class attribute with df_prox dataframe to look for any differences. "
   ]
  },
  {
   "cell_type": "code",
   "execution_count": null,
   "metadata": {},
   "outputs": [],
   "source": [
    "df_test = pd.concat((df_prox, df[\"class\"]), axis = 1)"
   ]
  },
  {
   "cell_type": "markdown",
   "metadata": {},
   "source": [
    "* Once they are concatenated, we will see the distributions of similarities over the 2 classes."
   ]
  },
  {
   "cell_type": "code",
   "execution_count": null,
   "metadata": {},
   "outputs": [],
   "source": [
    "# K = 2\n",
    "# df_test[\"1-prox\"].hist(by = df[\"class\"])"
   ]
  },
  {
   "cell_type": "code",
   "execution_count": null,
   "metadata": {},
   "outputs": [],
   "source": [
    "# K=2\n",
    "# df_test[\"2-prox\"].hist(by = df[\"class\"])"
   ]
  },
  {
   "cell_type": "code",
   "execution_count": null,
   "metadata": {},
   "outputs": [],
   "source": [
    "# df_test[\"3-prox\"].hist(by = df[\"class\"])\n",
    "# K = 3"
   ]
  },
  {
   "cell_type": "code",
   "execution_count": null,
   "metadata": {},
   "outputs": [],
   "source": [
    "# df_test[\"4-prox\"].hist(by = df[\"class\"])\n",
    "# K = 4"
   ]
  },
  {
   "cell_type": "code",
   "execution_count": null,
   "metadata": {},
   "outputs": [],
   "source": [
    "# df_test[\"5-prox\"].hist(by = df[\"class\"])\n",
    "# K = 5"
   ]
  },
  {
   "cell_type": "code",
   "execution_count": null,
   "metadata": {},
   "outputs": [],
   "source": [
    "# df_test[\"10-prox\"].hist(by = df[\"class\"])\n",
    "# K =10"
   ]
  },
  {
   "cell_type": "markdown",
   "metadata": {},
   "source": [
    "* As you can see in the graphs above, as we increased the value of k, class attribute with value <=50 tends to follow normal distribution.\n",
    "* Where as the class attribute value > 50 is still very much away from normality. We can check the significance of the distribution using statistical methods."
   ]
  },
  {
   "cell_type": "markdown",
   "metadata": {},
   "source": [
    "### C. Closest to the largest number:\n",
    "* This can be checked using value_counts() on k = 1, 3, 5 and 10"
   ]
  },
  {
   "cell_type": "code",
   "execution_count": null,
   "metadata": {},
   "outputs": [],
   "source": [
    "#K = 1\n",
    "# df_test[1].value_counts()"
   ]
  },
  {
   "cell_type": "markdown",
   "metadata": {},
   "source": [
    "* 15 is closest to few other examples."
   ]
  },
  {
   "cell_type": "code",
   "execution_count": null,
   "metadata": {},
   "outputs": [],
   "source": [
    "#K = 3\n",
    "# df_test[3].value_counts()"
   ]
  },
  {
   "cell_type": "code",
   "execution_count": null,
   "metadata": {},
   "outputs": [],
   "source": [
    "#K = 5\n",
    "# df_test[5].value_counts()"
   ]
  },
  {
   "cell_type": "code",
   "execution_count": 1,
   "metadata": {},
   "outputs": [],
   "source": [
    "#K = 10\n",
    "# df_test[10].value_counts()"
   ]
  },
  {
   "cell_type": "markdown",
   "metadata": {},
   "source": [
    "* Initially for k = 1, there are not many examples that are close to one particular example. But when we increased the k the number of examples that are closer is increasing. "
   ]
  },
  {
   "cell_type": "markdown",
   "metadata": {},
   "source": [
    "### KNN :\n",
    "* Cross validation with 8 folds will be used to test the data."
   ]
  },
  {
   "cell_type": "code",
   "execution_count": null,
   "metadata": {
    "collapsed": true
   },
   "outputs": [],
   "source": [
    "cv = 8\n"
   ]
  }
 ],
 "metadata": {
  "anaconda-cloud": {},
  "kernelspec": {
   "display_name": "Python 3",
   "language": "python",
   "name": "python3"
  },
  "language_info": {
   "codemirror_mode": {
    "name": "ipython",
    "version": 3
   },
   "file_extension": ".py",
   "mimetype": "text/x-python",
   "name": "python",
   "nbconvert_exporter": "python",
   "pygments_lexer": "ipython3",
   "version": "3.4.3"
  }
 },
 "nbformat": 4,
 "nbformat_minor": 1
}
